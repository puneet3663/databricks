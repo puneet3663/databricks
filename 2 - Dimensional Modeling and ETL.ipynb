{
 "cells": [
  {
   "cell_type": "markdown",
   "metadata": {
    "application/vnd.databricks.v1+cell": {
     "cellMetadata": {},
     "inputWidgets": {},
     "nuid": "a24e7338-4df3-437a-8b04-55ba52e1e065",
     "showTitle": false,
     "tableResultSettingsMap": {},
     "title": ""
    }
   },
   "source": [
    "\n",
    "<div style=\"text-align: center; line-height: 0; padding-top: 9px;\">\n",
    "  <img src=\"https://databricks.com/wp-content/uploads/2018/03/db-academy-rgb-1200px.png\" alt=\"Databricks Learning\">\n",
    "</div>\n"
   ]
  },
  {
   "cell_type": "markdown",
   "metadata": {
    "application/vnd.databricks.v1+cell": {
     "cellMetadata": {},
     "inputWidgets": {},
     "nuid": "98df9767-230f-441a-ad7c-dfce5a73e060",
     "showTitle": false,
     "tableResultSettingsMap": {},
     "title": ""
    }
   },
   "source": [
    "# Dimensional Modeling and ETL\n",
    "In this demo, we will explore how to implement Slowly Changing Dimensions (SCD) Type 2 using Databricks within a star schema. You will work through the process of creating dimension and fact tables, applying data transformations, and maintaining historical records using SCD Type 2. This hands-on exercise will strengthen your data modeling and ETL skills using Spark SQL and Delta Lake."
   ]
  },
  {
   "cell_type": "markdown",
   "metadata": {
    "application/vnd.databricks.v1+cell": {
     "cellMetadata": {},
     "inputWidgets": {},
     "nuid": "67ce2436-6890-41e5-aa38-a094775a9ed2",
     "showTitle": false,
     "tableResultSettingsMap": {},
     "title": ""
    }
   },
   "source": [
    "## Learning Objectives\n",
    "By the end of this demo, you will be able to:\n",
    "- Apply SCD Type 2 concepts to track historical changes in dimension tables using Databricks.\n",
    "- Design a star schema for efficient querying and analysis in a data warehouse environment.\n",
    "- Construct ETL pipelines using Spark SQL and Delta Lake to transform and load data.\n",
    "- Evaluate the accuracy and completeness of data using data validation techniques.\n",
    "- Develop scalable and automated data workflows using Databricks notebooks."
   ]
  },
  {
   "cell_type": "markdown",
   "metadata": {
    "application/vnd.databricks.v1+cell": {
     "cellMetadata": {},
     "inputWidgets": {},
     "nuid": "aa21e606-ef41-4fa4-a06e-22aaea3fd8d2",
     "showTitle": false,
     "tableResultSettingsMap": {},
     "title": ""
    }
   },
   "source": [
    "## Tasks to Perform\n",
    "\n",
    "In this notebook, we will explore how to build a *dimensional model* (specifically, a star schema) from our TPC-H data, using **silver** (refined) tables and **gold** (dimension and fact) tables.\n",
    "\n",
    "In doing so, we will walk through the following steps:\n",
    "\n",
    "1. **Define Our Table Structures**: Understand how `GENERATED ALWAYS AS IDENTITY` works and create all necessary tables (silver and gold).  \n",
    "2. **Load the Silver Layer**: Move data from `bronze` (raw) TPC-H tables to the refined tables, applying any necessary transformations (renaming columns, trimming strings, normalizing data types).  \n",
    "3. **Create an SCD Type 2 Dimension**: Explore how to build a _Slowly Changing Dimension_ that preserves history for changed records.  \n",
    "4. **Load the Gold Layer**: Fill the dimension and fact tables with both **initial** and **incremental** data. Demonstrate how to use a single `MERGE` statement for SCD Type 2 updates.  \n",
    "5. **Validate and Explore Sample Queries**: Verify our data loads and query our new star schema for insights.  \n",
    "\n",
    "By the end, we’ll have a **gold** star schema with an **SCD Type 2 dimension** (`DimCustomer`) that tracks historical changes."
   ]
  },
  {
   "cell_type": "markdown",
   "metadata": {
    "application/vnd.databricks.v1+cell": {
     "cellMetadata": {},
     "inputWidgets": {},
     "nuid": "f2d89e90-2ea2-49ea-ab85-286ee13c98cf",
     "showTitle": false,
     "tableResultSettingsMap": {},
     "title": ""
    }
   },
   "source": [
    "## Prerequisites\n",
    "As a reminder, you should have have already run a **setup script** in the preceding notebook that created:  \n",
    "   - A user-specific catalog.  \n",
    "   - Schemas: `bronze`, `silver`, and `gold`.  \n",
    "   - TPC-H tables copied into `bronze`.\n",
    "\n",
    "If, for whatever reason you have not already performed this setup, please return now to **1 - Entity Relationship Modeling and Working with Constraints** and execute the `%run` command in Cell 8 of that notebook."
   ]
  },
  {
   "cell_type": "markdown",
   "metadata": {
    "application/vnd.databricks.v1+cell": {
     "cellMetadata": {},
     "inputWidgets": {},
     "nuid": "84147b2d-d912-42cb-8a19-c82a7aabf516",
     "showTitle": false,
     "tableResultSettingsMap": {},
     "title": ""
    }
   },
   "source": [
    "## 🚨REQUIRED - SELECT CLASSIC COMPUTE\n",
    "Before executing cells in this notebook, please select your classic compute cluster in the lab. Be aware that **Serverless** is enabled by default.\n",
    "\n",
    "Follow these steps to select the classic compute cluster:\n",
    "* Navigate to the top-right of this notebook and click the drop-down menu to select your cluster. By default, the notebook will use **Serverless**. <br>\n",
    "\n",
    "##### **📌**If your cluster is available, select it and continue to the next cell. If the cluster is not shown:\n",
    "  - In the drop-down, select **More**.\n",
    "  - In the **Attach to an existing compute resource** pop-up, select the first drop-down. You will see a unique cluster name in that drop-down. Please select that cluster.\n",
    "\n",
    "**NOTE:** If your cluster has terminated, you might need to restart it in order to select it. To do this:\n",
    "1. Right-click on **Compute** in the left navigation pane and select *Open in new tab*.\n",
    "2. Find the triangle icon to the right of your compute cluster name and click it.\n",
    "3. Wait a few minutes for the cluster to start.\n",
    "4. Once the cluster is running, complete the steps above to select your cluster."
   ]
  },
  {
   "cell_type": "markdown",
   "metadata": {
    "application/vnd.databricks.v1+cell": {
     "cellMetadata": {},
     "inputWidgets": {},
     "nuid": "e49facc9-f53a-4329-9008-4281347edcc6",
     "showTitle": false,
     "tableResultSettingsMap": {},
     "title": ""
    }
   },
   "source": [
    "## Requirements\n",
    "\n",
    "Please review the following requirements before starting the demo:\n",
    "\n",
    "* To run this notebook, you need to use one of the following Databricks runtime(s): **15.4.x-scala2.12 15.4.x-photon-scala2.12 15.4.x-cpu-ml-scala2.12**"
   ]
  },
  {
   "cell_type": "markdown",
   "metadata": {
    "application/vnd.databricks.v1+cell": {
     "cellMetadata": {},
     "inputWidgets": {},
     "nuid": "7b2871dd-4e76-4d1a-b62c-3212c557a827",
     "showTitle": false,
     "tableResultSettingsMap": {},
     "title": ""
    }
   },
   "source": [
    "---"
   ]
  },
  {
   "cell_type": "markdown",
   "metadata": {
    "application/vnd.databricks.v1+cell": {
     "cellMetadata": {},
     "inputWidgets": {},
     "nuid": "6ed5f15b-a35e-4e35-85a4-4f80fe5fef38",
     "showTitle": false,
     "tableResultSettingsMap": {},
     "title": ""
    }
   },
   "source": [
    "## Part 1: Table Definitions\n",
    "\n",
    "To explore dimensional modeling, we will define:  \n",
    "- **Silver** tables (sometimes called the *refined* or *integration* layer).  \n",
    "- **Gold** tables that implement a **star schema** with an SCD Type 2 dimension.  \n",
    "\n",
    "A key feature we’ll use is `GENERATED ALWAYS AS IDENTITY` in Delta, which automatically assigns incrementing numeric values for surrogate keys."
   ]
  },
  {
   "cell_type": "markdown",
   "metadata": {
    "application/vnd.databricks.v1+cell": {
     "cellMetadata": {},
     "inputWidgets": {},
     "nuid": "90687d58-7f85-4921-9efd-4e3aa9e68ea4",
     "showTitle": false,
     "tableResultSettingsMap": {},
     "title": ""
    }
   },
   "source": [
    "### 1.1 Set Your Catalog"
   ]
  },
  {
   "cell_type": "code",
   "execution_count": 0,
   "metadata": {
    "application/vnd.databricks.v1+cell": {
     "cellMetadata": {
      "byteLimit": 2048000,
      "rowLimit": 10000
     },
     "inputWidgets": {},
     "nuid": "79ce0a45-94bf-4151-9076-3a756549ccad",
     "showTitle": true,
     "tableResultSettingsMap": {},
     "title": "USE CATALOG"
    }
   },
   "outputs": [],
   "source": [
    "import re\n",
    "\n",
    "# Get the current user's email and extract the catalog name by splitting at '@' and taking the first part\n",
    "user_id = spark.sql(\"SELECT current_user()\").collect()[0][0].split(\"@\")[0]\n",
    "\n",
    "# Replace all special characters in the `user_id` with an underscore '_' to create the catalog name\n",
    "catalog_name = re.sub(r'[^a-zA-Z0-9]', '_', user_id)"
   ]
  },
  {
   "cell_type": "code",
   "execution_count": 0,
   "metadata": {
    "application/vnd.databricks.v1+cell": {
     "cellMetadata": {
      "byteLimit": 2048000,
      "rowLimit": 10000
     },
     "inputWidgets": {},
     "nuid": "5217e47f-9085-4f4f-97ff-7e89d0f75ef5",
     "showTitle": false,
     "tableResultSettingsMap": {},
     "title": ""
    }
   },
   "outputs": [],
   "source": [
    "# Define the schema name for the silver and gold layers\n",
    "silver_schema = \"silver\"\n",
    "gold_schema = \"gold\""
   ]
  },
  {
   "cell_type": "code",
   "execution_count": 0,
   "metadata": {
    "application/vnd.databricks.v1+cell": {
     "cellMetadata": {
      "byteLimit": 2048000,
      "rowLimit": 10000
     },
     "inputWidgets": {},
     "nuid": "4045a680-9ea0-43a1-9802-8995f180bda0",
     "showTitle": false,
     "tableResultSettingsMap": {},
     "title": ""
    }
   },
   "outputs": [],
   "source": [
    "# Create a widget to capture catalog name and all schema names\n",
    "dbutils.widgets.text(\"catalog_name\", catalog_name)\n",
    "dbutils.widgets.text(\"silver_schema\", silver_schema)\n",
    "dbutils.widgets.text(\"gold_schema\", gold_schema)"
   ]
  },
  {
   "cell_type": "code",
   "execution_count": 0,
   "metadata": {
    "application/vnd.databricks.v1+cell": {
     "cellMetadata": {
      "byteLimit": 2048000,
      "implicitDf": true,
      "rowLimit": 10000
     },
     "inputWidgets": {},
     "nuid": "15c9c42e-9652-4e13-9718-bffd84e52f78",
     "showTitle": false,
     "tableResultSettingsMap": {},
     "title": ""
    }
   },
   "outputs": [
    {
     "output_type": "display_data",
     "data": {
      "text/html": [
       "<style scoped>\n",
       "  .table-result-container {\n",
       "    max-height: 300px;\n",
       "    overflow: auto;\n",
       "  }\n",
       "  table, th, td {\n",
       "    border: 1px solid black;\n",
       "    border-collapse: collapse;\n",
       "  }\n",
       "  th, td {\n",
       "    padding: 5px;\n",
       "  }\n",
       "  th {\n",
       "    text-align: left;\n",
       "  }\n",
       "</style><div class='table-result-container'><table class='table-result'><thead style='background-color: white'><tr></tr></thead><tbody></tbody></table></div>"
      ]
     },
     "metadata": {
      "application/vnd.databricks.v1+output": {
       "addedWidgets": {},
       "aggData": [],
       "aggError": "",
       "aggOverflow": false,
       "aggSchema": [],
       "aggSeriesLimitReached": false,
       "aggType": "",
       "arguments": {},
       "columnCustomDisplayInfos": {},
       "data": [],
       "datasetInfos": [],
       "dbfsResultPath": null,
       "isJsonSchema": true,
       "metadata": {
        "dataframeName": null
       },
       "overflow": false,
       "plotOptions": {
        "customPlotOptions": {},
        "displayType": "table",
        "pivotAggregation": null,
        "pivotColumns": null,
        "xColumns": null,
        "yColumns": null
       },
       "removedWidgets": [],
       "schema": [],
       "type": "table"
      }
     },
     "output_type": "display_data"
    }
   ],
   "source": [
    "%sql\n",
    "-- Set the current catalog to the extracted catalog name in DBSQL\n",
    "USE CATALOG IDENTIFIER(:catalog_name);"
   ]
  },
  {
   "cell_type": "markdown",
   "metadata": {
    "application/vnd.databricks.v1+cell": {
     "cellMetadata": {},
     "inputWidgets": {},
     "nuid": "96e06a77-e73e-41e8-83c4-145a9114c19d",
     "showTitle": false,
     "tableResultSettingsMap": {},
     "title": ""
    }
   },
   "source": [
    "### 1.2 Create Silver Tables\n",
    "\n",
    "The **silver** schema is typically a place for refined data. We will define two example refined tables:  \n",
    "- `refined_customer` (based on TPC-H `customer`)  \n",
    "- `refined_orders` (based on TPC-H `orders`)\n",
    "\n",
    "Each table will rename and standardize columns. We only define the schema here; we’ll load data next."
   ]
  },
  {
   "cell_type": "code",
   "execution_count": 0,
   "metadata": {
    "application/vnd.databricks.v1+cell": {
     "cellMetadata": {
      "byteLimit": 2048000,
      "implicitDf": true,
      "rowLimit": 10000
     },
     "inputWidgets": {},
     "nuid": "9f4c4b44-4818-4497-bc72-3d3e5caba37d",
     "showTitle": false,
     "tableResultSettingsMap": {},
     "title": ""
    }
   },
   "outputs": [
    {
     "output_type": "display_data",
     "data": {
      "text/html": [
       "<style scoped>\n",
       "  .table-result-container {\n",
       "    max-height: 300px;\n",
       "    overflow: auto;\n",
       "  }\n",
       "  table, th, td {\n",
       "    border: 1px solid black;\n",
       "    border-collapse: collapse;\n",
       "  }\n",
       "  th, td {\n",
       "    padding: 5px;\n",
       "  }\n",
       "  th {\n",
       "    text-align: left;\n",
       "  }\n",
       "</style><div class='table-result-container'><table class='table-result'><thead style='background-color: white'><tr></tr></thead><tbody></tbody></table></div>"
      ]
     },
     "metadata": {
      "application/vnd.databricks.v1+output": {
       "addedWidgets": {},
       "aggData": [],
       "aggError": "",
       "aggOverflow": false,
       "aggSchema": [],
       "aggSeriesLimitReached": false,
       "aggType": "",
       "arguments": {},
       "columnCustomDisplayInfos": {},
       "data": [],
       "datasetInfos": [],
       "dbfsResultPath": null,
       "isJsonSchema": true,
       "metadata": {
        "dataframeName": null
       },
       "overflow": false,
       "plotOptions": {
        "customPlotOptions": {},
        "displayType": "table",
        "pivotAggregation": null,
        "pivotColumns": null,
        "xColumns": null,
        "yColumns": null
       },
       "removedWidgets": [],
       "schema": [],
       "type": "table"
      }
     },
     "output_type": "display_data"
    }
   ],
   "source": [
    "%sql\n",
    "-- Set the current schema to the extracted silver_schema name in DBSQL\n",
    "USE SCHEMA IDENTIFIER(:silver_schema);"
   ]
  },
  {
   "cell_type": "code",
   "execution_count": 0,
   "metadata": {
    "application/vnd.databricks.v1+cell": {
     "cellMetadata": {
      "byteLimit": 2048000,
      "implicitDf": true,
      "rowLimit": 10000
     },
     "inputWidgets": {},
     "nuid": "8d70592b-f88c-4275-8326-240ad9c7438d",
     "showTitle": true,
     "tableResultSettingsMap": {},
     "title": "CREATE TABLE IF NOT EXISTS refined_customer"
    }
   },
   "outputs": [
    {
     "output_type": "display_data",
     "data": {
      "text/html": [
       "<style scoped>\n",
       "  .table-result-container {\n",
       "    max-height: 300px;\n",
       "    overflow: auto;\n",
       "  }\n",
       "  table, th, td {\n",
       "    border: 1px solid black;\n",
       "    border-collapse: collapse;\n",
       "  }\n",
       "  th, td {\n",
       "    padding: 5px;\n",
       "  }\n",
       "  th {\n",
       "    text-align: left;\n",
       "  }\n",
       "</style><div class='table-result-container'><table class='table-result'><thead style='background-color: white'><tr></tr></thead><tbody></tbody></table></div>"
      ]
     },
     "metadata": {
      "application/vnd.databricks.v1+output": {
       "addedWidgets": {},
       "aggData": [],
       "aggError": "",
       "aggOverflow": false,
       "aggSchema": [],
       "aggSeriesLimitReached": false,
       "aggType": "",
       "arguments": {},
       "columnCustomDisplayInfos": {},
       "data": [],
       "datasetInfos": [],
       "dbfsResultPath": null,
       "isJsonSchema": true,
       "metadata": {
        "dataframeName": null
       },
       "overflow": false,
       "plotOptions": {
        "customPlotOptions": {},
        "displayType": "table",
        "pivotAggregation": null,
        "pivotColumns": null,
        "xColumns": null,
        "yColumns": null
       },
       "removedWidgets": [],
       "schema": [],
       "type": "table"
      }
     },
     "output_type": "display_data"
    }
   ],
   "source": [
    "%sql\n",
    "-- Creating the refined_customer table if it does not already exist\n",
    "CREATE TABLE IF NOT EXISTS refined_customer (\n",
    "  customer_id INT,            -- Unique identifier for the customer\n",
    "  name STRING,                -- Name of the customer\n",
    "  address STRING,             -- Address of the customer\n",
    "  nation_key INT,             -- Foreign key linking to the nation table\n",
    "  phone STRING,               -- Phone number of the customer\n",
    "  acct_bal DECIMAL(12, 2),    -- Account balance of the customer\n",
    "  market_segment STRING,      -- Market segment of the customer\n",
    "  comment STRING              -- Additional comments about the customer\n",
    ");"
   ]
  },
  {
   "cell_type": "code",
   "execution_count": 0,
   "metadata": {
    "application/vnd.databricks.v1+cell": {
     "cellMetadata": {
      "byteLimit": 2048000,
      "implicitDf": true,
      "rowLimit": 10000
     },
     "inputWidgets": {},
     "nuid": "05488c6a-c309-4dec-b17a-5f925e505595",
     "showTitle": true,
     "tableResultSettingsMap": {},
     "title": "CREATE TABLE IF NOT EXISTS refined_orders"
    }
   },
   "outputs": [
    {
     "output_type": "display_data",
     "data": {
      "text/html": [
       "<style scoped>\n",
       "  .table-result-container {\n",
       "    max-height: 300px;\n",
       "    overflow: auto;\n",
       "  }\n",
       "  table, th, td {\n",
       "    border: 1px solid black;\n",
       "    border-collapse: collapse;\n",
       "  }\n",
       "  th, td {\n",
       "    padding: 5px;\n",
       "  }\n",
       "  th {\n",
       "    text-align: left;\n",
       "  }\n",
       "</style><div class='table-result-container'><table class='table-result'><thead style='background-color: white'><tr></tr></thead><tbody></tbody></table></div>"
      ]
     },
     "metadata": {
      "application/vnd.databricks.v1+output": {
       "addedWidgets": {},
       "aggData": [],
       "aggError": "",
       "aggOverflow": false,
       "aggSchema": [],
       "aggSeriesLimitReached": false,
       "aggType": "",
       "arguments": {},
       "columnCustomDisplayInfos": {},
       "data": [],
       "datasetInfos": [],
       "dbfsResultPath": null,
       "isJsonSchema": true,
       "metadata": {
        "dataframeName": null
       },
       "overflow": false,
       "plotOptions": {
        "customPlotOptions": {},
        "displayType": "table",
        "pivotAggregation": null,
        "pivotColumns": null,
        "xColumns": null,
        "yColumns": null
       },
       "removedWidgets": [],
       "schema": [],
       "type": "table"
      }
     },
     "output_type": "display_data"
    }
   ],
   "source": [
    "%sql\n",
    "-- Creating the refined_orders table if it does not already exist\n",
    "CREATE TABLE IF NOT EXISTS refined_orders (\n",
    "  order_id INT,                -- Unique identifier for the order\n",
    "  customer_id INT,             -- Foreign key linking to the customer table\n",
    "  order_status STRING,         -- Status of the order (e.g., pending, shipped)\n",
    "  total_price DECIMAL(12, 2),  -- Total price of the order\n",
    "  order_date DATE,             -- Date when the order was placed\n",
    "  order_priority STRING,       -- Priority level of the order\n",
    "  clerk STRING,                -- Clerk who handled the order\n",
    "  ship_priority INT,           -- Shipping priority of the order\n",
    "  comment STRING               -- Additional comments about the order\n",
    ");"
   ]
  },
  {
   "cell_type": "markdown",
   "metadata": {
    "application/vnd.databricks.v1+cell": {
     "cellMetadata": {},
     "inputWidgets": {},
     "nuid": "c5151582-9af6-4ee8-bfd6-8b94f93fcdad",
     "showTitle": false,
     "tableResultSettingsMap": {},
     "title": ""
    }
   },
   "source": [
    "### 1.3 Create Gold Tables (Star Schema)\n",
    "\n",
    "#### We define:\n",
    "- **`DimCustomer`** (with SCD Type 2 attributes)  \n",
    "- **`DimDate`**  \n",
    "- **`FactOrders`**  \n",
    "\n",
    "#### Key Steps\n",
    "1. `GENERATED ALWAYS AS IDENTITY` for surrogate keys.  \n",
    "2. Additional columns in `DimCustomer` to manage SCD Type 2 (e.g., `start_date`, `end_date`, and `is_current`)."
   ]
  },
  {
   "cell_type": "code",
   "execution_count": 0,
   "metadata": {
    "application/vnd.databricks.v1+cell": {
     "cellMetadata": {
      "byteLimit": 2048000,
      "implicitDf": true,
      "rowLimit": 10000
     },
     "inputWidgets": {},
     "nuid": "98365223-feea-418f-99d6-c6935d7622ad",
     "showTitle": false,
     "tableResultSettingsMap": {},
     "title": ""
    }
   },
   "outputs": [
    {
     "output_type": "display_data",
     "data": {
      "text/html": [
       "<style scoped>\n",
       "  .table-result-container {\n",
       "    max-height: 300px;\n",
       "    overflow: auto;\n",
       "  }\n",
       "  table, th, td {\n",
       "    border: 1px solid black;\n",
       "    border-collapse: collapse;\n",
       "  }\n",
       "  th, td {\n",
       "    padding: 5px;\n",
       "  }\n",
       "  th {\n",
       "    text-align: left;\n",
       "  }\n",
       "</style><div class='table-result-container'><table class='table-result'><thead style='background-color: white'><tr></tr></thead><tbody></tbody></table></div>"
      ]
     },
     "metadata": {
      "application/vnd.databricks.v1+output": {
       "addedWidgets": {},
       "aggData": [],
       "aggError": "",
       "aggOverflow": false,
       "aggSchema": [],
       "aggSeriesLimitReached": false,
       "aggType": "",
       "arguments": {},
       "columnCustomDisplayInfos": {},
       "data": [],
       "datasetInfos": [],
       "dbfsResultPath": null,
       "isJsonSchema": true,
       "metadata": {
        "dataframeName": null
       },
       "overflow": false,
       "plotOptions": {
        "customPlotOptions": {},
        "displayType": "table",
        "pivotAggregation": null,
        "pivotColumns": null,
        "xColumns": null,
        "yColumns": null
       },
       "removedWidgets": [],
       "schema": [],
       "type": "table"
      }
     },
     "output_type": "display_data"
    }
   ],
   "source": [
    "%sql\n",
    "-- Set the current schema to the extracted gold_schema name in DBSQL\n",
    "USE SCHEMA IDENTIFIER(:gold_schema);"
   ]
  },
  {
   "cell_type": "code",
   "execution_count": 0,
   "metadata": {
    "application/vnd.databricks.v1+cell": {
     "cellMetadata": {
      "byteLimit": 2048000,
      "implicitDf": true,
      "rowLimit": 10000
     },
     "inputWidgets": {},
     "nuid": "7577aea5-0d36-443f-8bcc-873049e3b6a1",
     "showTitle": true,
     "tableResultSettingsMap": {},
     "title": "CREATE TABLE IF NOT EXISTS DimCustomer"
    }
   },
   "outputs": [
    {
     "output_type": "display_data",
     "data": {
      "text/html": [
       "<style scoped>\n",
       "  .table-result-container {\n",
       "    max-height: 300px;\n",
       "    overflow: auto;\n",
       "  }\n",
       "  table, th, td {\n",
       "    border: 1px solid black;\n",
       "    border-collapse: collapse;\n",
       "  }\n",
       "  th, td {\n",
       "    padding: 5px;\n",
       "  }\n",
       "  th {\n",
       "    text-align: left;\n",
       "  }\n",
       "</style><div class='table-result-container'><table class='table-result'><thead style='background-color: white'><tr></tr></thead><tbody></tbody></table></div>"
      ]
     },
     "metadata": {
      "application/vnd.databricks.v1+output": {
       "addedWidgets": {},
       "aggData": [],
       "aggError": "",
       "aggOverflow": false,
       "aggSchema": [],
       "aggSeriesLimitReached": false,
       "aggType": "",
       "arguments": {},
       "columnCustomDisplayInfos": {},
       "data": [],
       "datasetInfos": [],
       "dbfsResultPath": null,
       "isJsonSchema": true,
       "metadata": {
        "dataframeName": null
       },
       "overflow": false,
       "plotOptions": {
        "customPlotOptions": {},
        "displayType": "table",
        "pivotAggregation": null,
        "pivotColumns": null,
        "xColumns": null,
        "yColumns": null
       },
       "removedWidgets": [],
       "schema": [],
       "type": "table"
      }
     },
     "output_type": "display_data"
    }
   ],
   "source": [
    "%sql\n",
    "-- Create the DimCustomer table to store customer details with Slowly Changing Dimension (SCD) Type 2 attributes for historical tracking\n",
    "CREATE TABLE IF NOT EXISTS DimCustomer\n",
    "(\n",
    "  dim_customer_key BIGINT GENERATED ALWAYS AS IDENTITY,  -- Surrogate key for the dimension table\n",
    "  customer_id INT,                                       -- Unique identifier for the customer\n",
    "  name STRING,                                           -- Name of the customer\n",
    "  address STRING,                                        -- Address of the customer\n",
    "  nation_key INT,                                        -- Foreign key linking to the nation table\n",
    "  phone STRING,                                          -- Phone number of the customer\n",
    "  acct_bal DECIMAL(12,2),                                -- Account balance of the customer\n",
    "  market_segment STRING,                                 -- Market segment of the customer\n",
    "  comment STRING,                                        -- Additional comments about the customer\n",
    "  start_date DATE,                                       -- SCD2 start date indicating the beginning of the record's validity\n",
    "  end_date DATE,                                         -- SCD2 end date indicating the end of the record's validity\n",
    "  is_current BOOLEAN,                                    -- Flag to indicate if the record is the current version\n",
    "  CONSTRAINT pk_dim_customer PRIMARY KEY (dim_customer_key)  -- Primary key constraint on the surrogate key\n",
    ");"
   ]
  },
  {
   "cell_type": "code",
   "execution_count": 0,
   "metadata": {
    "application/vnd.databricks.v1+cell": {
     "cellMetadata": {
      "byteLimit": 2048000,
      "implicitDf": true,
      "rowLimit": 10000
     },
     "inputWidgets": {},
     "nuid": "47212704-2515-4b78-b216-88cb01482139",
     "showTitle": true,
     "tableResultSettingsMap": {},
     "title": "CREATE TABLE IF NOT EXISTS DimDate"
    }
   },
   "outputs": [
    {
     "output_type": "display_data",
     "data": {
      "text/html": [
       "<style scoped>\n",
       "  .table-result-container {\n",
       "    max-height: 300px;\n",
       "    overflow: auto;\n",
       "  }\n",
       "  table, th, td {\n",
       "    border: 1px solid black;\n",
       "    border-collapse: collapse;\n",
       "  }\n",
       "  th, td {\n",
       "    padding: 5px;\n",
       "  }\n",
       "  th {\n",
       "    text-align: left;\n",
       "  }\n",
       "</style><div class='table-result-container'><table class='table-result'><thead style='background-color: white'><tr></tr></thead><tbody></tbody></table></div>"
      ]
     },
     "metadata": {
      "application/vnd.databricks.v1+output": {
       "addedWidgets": {},
       "aggData": [],
       "aggError": "",
       "aggOverflow": false,
       "aggSchema": [],
       "aggSeriesLimitReached": false,
       "aggType": "",
       "arguments": {},
       "columnCustomDisplayInfos": {},
       "data": [],
       "datasetInfos": [],
       "dbfsResultPath": null,
       "isJsonSchema": true,
       "metadata": {
        "dataframeName": null
       },
       "overflow": false,
       "plotOptions": {
        "customPlotOptions": {},
        "displayType": "table",
        "pivotAggregation": null,
        "pivotColumns": null,
        "xColumns": null,
        "yColumns": null
       },
       "removedWidgets": [],
       "schema": [],
       "type": "table"
      }
     },
     "output_type": "display_data"
    }
   ],
   "source": [
    "%sql\n",
    "-- Simple DimDate table to store date-related information\n",
    "CREATE TABLE IF NOT EXISTS DimDate (\n",
    "  dim_date_key BIGINT GENERATED ALWAYS AS IDENTITY,  -- Surrogate key for the DimDate table\n",
    "  full_date DATE,                                    -- Full date value\n",
    "  day INT,                                           -- Day of the month\n",
    "  month INT,                                         -- Month of the year\n",
    "  year INT,                                          -- Year value\n",
    "  CONSTRAINT pk_dim_date PRIMARY KEY (dim_date_key) RELY  -- Primary key constraint on dim_date_key\n",
    ");"
   ]
  },
  {
   "cell_type": "code",
   "execution_count": 0,
   "metadata": {
    "application/vnd.databricks.v1+cell": {
     "cellMetadata": {
      "byteLimit": 2048000,
      "implicitDf": true,
      "rowLimit": 10000
     },
     "inputWidgets": {},
     "nuid": "5e104b16-e07d-4734-a2ed-cb59df86915d",
     "showTitle": false,
     "tableResultSettingsMap": {},
     "title": ""
    }
   },
   "outputs": [
    {
     "output_type": "display_data",
     "data": {
      "text/html": [
       "<style scoped>\n",
       "  .table-result-container {\n",
       "    max-height: 300px;\n",
       "    overflow: auto;\n",
       "  }\n",
       "  table, th, td {\n",
       "    border: 1px solid black;\n",
       "    border-collapse: collapse;\n",
       "  }\n",
       "  th, td {\n",
       "    padding: 5px;\n",
       "  }\n",
       "  th {\n",
       "    text-align: left;\n",
       "  }\n",
       "</style><div class='table-result-container'><table class='table-result'><thead style='background-color: white'><tr><th>current_catalog()</th></tr></thead><tbody><tr><td>labuser9889927_1744356335</td></tr></tbody></table></div>"
      ]
     },
     "metadata": {
      "application/vnd.databricks.v1+output": {
       "addedWidgets": {},
       "aggData": [],
       "aggError": "",
       "aggOverflow": false,
       "aggSchema": [],
       "aggSeriesLimitReached": false,
       "aggType": "",
       "arguments": {},
       "columnCustomDisplayInfos": {},
       "data": [
        [
         "labuser9889927_1744356335"
        ]
       ],
       "datasetInfos": [],
       "dbfsResultPath": null,
       "isJsonSchema": true,
       "metadata": {
        "createTempViewForImplicitDf": true,
        "dataframeName": "_sqldf",
        "executionCount": 4
       },
       "overflow": false,
       "plotOptions": {
        "customPlotOptions": {},
        "displayType": "table",
        "pivotAggregation": null,
        "pivotColumns": null,
        "xColumns": null,
        "yColumns": null
       },
       "removedWidgets": [],
       "schema": [
        {
         "metadata": "{\"__autoGeneratedAlias\":\"true\"}",
         "name": "current_catalog()",
         "type": "\"string\""
        }
       ],
       "type": "table"
      }
     },
     "output_type": "display_data"
    }
   ],
   "source": [
    "%sql\n",
    "-- Check Current Catalog\n",
    "SELECT current_catalog();"
   ]
  },
  {
   "cell_type": "code",
   "execution_count": 0,
   "metadata": {
    "application/vnd.databricks.v1+cell": {
     "cellMetadata": {
      "byteLimit": 2048000,
      "implicitDf": true,
      "rowLimit": 10000
     },
     "inputWidgets": {},
     "nuid": "efe0b354-af08-4218-a8e8-15fc2f4ae7b3",
     "showTitle": false,
     "tableResultSettingsMap": {},
     "title": ""
    }
   },
   "outputs": [
    {
     "output_type": "display_data",
     "data": {
      "text/html": [
       "<style scoped>\n",
       "  .table-result-container {\n",
       "    max-height: 300px;\n",
       "    overflow: auto;\n",
       "  }\n",
       "  table, th, td {\n",
       "    border: 1px solid black;\n",
       "    border-collapse: collapse;\n",
       "  }\n",
       "  th, td {\n",
       "    padding: 5px;\n",
       "  }\n",
       "  th {\n",
       "    text-align: left;\n",
       "  }\n",
       "</style><div class='table-result-container'><table class='table-result'><thead style='background-color: white'><tr><th>current_schema()</th></tr></thead><tbody><tr><td>gold</td></tr></tbody></table></div>"
      ]
     },
     "metadata": {
      "application/vnd.databricks.v1+output": {
       "addedWidgets": {},
       "aggData": [],
       "aggError": "",
       "aggOverflow": false,
       "aggSchema": [],
       "aggSeriesLimitReached": false,
       "aggType": "",
       "arguments": {},
       "columnCustomDisplayInfos": {},
       "data": [
        [
         "gold"
        ]
       ],
       "datasetInfos": [],
       "dbfsResultPath": null,
       "isJsonSchema": true,
       "metadata": {
        "createTempViewForImplicitDf": true,
        "dataframeName": "_sqldf",
        "executionCount": 5
       },
       "overflow": false,
       "plotOptions": {
        "customPlotOptions": {},
        "displayType": "table",
        "pivotAggregation": null,
        "pivotColumns": null,
        "xColumns": null,
        "yColumns": null
       },
       "removedWidgets": [],
       "schema": [
        {
         "metadata": "{\"__autoGeneratedAlias\":\"true\"}",
         "name": "current_schema()",
         "type": "\"string\""
        }
       ],
       "type": "table"
      }
     },
     "output_type": "display_data"
    }
   ],
   "source": [
    "%sql\n",
    "-- Check Current Schema\n",
    "SELECT current_schema();"
   ]
  },
  {
   "cell_type": "markdown",
   "metadata": {
    "application/vnd.databricks.v1+cell": {
     "cellMetadata": {},
     "inputWidgets": {},
     "nuid": "a6edf480-db62-49b8-892e-139678c8fbf2",
     "showTitle": false,
     "tableResultSettingsMap": {},
     "title": ""
    }
   },
   "source": [
    "**Note:** Replace `<default_catalog_name>` and `<default_schema_name>` values in both the lines in the below code with the actual default catalog and schema names from the query output in the previous cells:\n",
    "\n",
    "**Target Code Lines:**\n",
    "```dbsql\n",
    "CONSTRAINT fk_customer FOREIGN KEY (dim_customer_key) REFERENCES <default_catalog_name>.<default_schema_name>.DimCustomer(dim_customer_key),  -- Foreign key constraint linking to DimCustomer\n",
    "\n",
    "CONSTRAINT fk_date FOREIGN KEY (dim_date_key) REFERENCES <default_catalog_name>.<default_schema_name>.DimDate(dim_date_key)  -- Foreign key constraint linking to DimDate\n",
    "```"
   ]
  },
  {
   "cell_type": "code",
   "execution_count": 0,
   "metadata": {
    "application/vnd.databricks.v1+cell": {
     "cellMetadata": {
      "byteLimit": 2048000,
      "implicitDf": true,
      "rowLimit": 10000
     },
     "inputWidgets": {},
     "nuid": "fe3d068c-f8c1-497c-8ce8-a1f0094908b3",
     "showTitle": true,
     "tableResultSettingsMap": {},
     "title": "CREATE TABLE IF NOT EXISTS FactOrders"
    }
   },
   "outputs": [
    {
     "output_type": "display_data",
     "data": {
      "text/html": [
       "<style scoped>\n",
       "  .table-result-container {\n",
       "    max-height: 300px;\n",
       "    overflow: auto;\n",
       "  }\n",
       "  table, th, td {\n",
       "    border: 1px solid black;\n",
       "    border-collapse: collapse;\n",
       "  }\n",
       "  th, td {\n",
       "    padding: 5px;\n",
       "  }\n",
       "  th {\n",
       "    text-align: left;\n",
       "  }\n",
       "</style><div class='table-result-container'><table class='table-result'><thead style='background-color: white'><tr></tr></thead><tbody></tbody></table></div>"
      ]
     },
     "metadata": {
      "application/vnd.databricks.v1+output": {
       "addedWidgets": {},
       "aggData": [],
       "aggError": "",
       "aggOverflow": false,
       "aggSchema": [],
       "aggSeriesLimitReached": false,
       "aggType": "",
       "arguments": {},
       "columnCustomDisplayInfos": {},
       "data": [],
       "datasetInfos": [],
       "dbfsResultPath": null,
       "isJsonSchema": true,
       "metadata": {
        "dataframeName": null
       },
       "overflow": false,
       "plotOptions": {
        "customPlotOptions": {},
        "displayType": "table",
        "pivotAggregation": null,
        "pivotColumns": null,
        "xColumns": null,
        "yColumns": null
       },
       "removedWidgets": [],
       "schema": [],
       "type": "table"
      }
     },
     "output_type": "display_data"
    }
   ],
   "source": [
    "%sql\n",
    "-- FactOrders table creation referencing DimCustomer and DimDate\n",
    "CREATE TABLE IF NOT EXISTS FactOrders (\n",
    "  fact_orders_key BIGINT GENERATED ALWAYS AS IDENTITY,  -- Surrogate key for the FactOrders table\n",
    "  order_id INT,                                        -- Unique identifier for the order\n",
    "  dim_customer_key BIGINT,                             -- Foreign key linking to the DimCustomer table\n",
    "  dim_date_key BIGINT,                                 -- Foreign key linking to the DimDate table\n",
    "  total_price DECIMAL(12, 2),                          -- Total price of the order\n",
    "  order_status STRING,                                 -- Status of the order (e.g., pending, shipped)\n",
    "  order_priority STRING,                               -- Priority level of the order\n",
    "  clerk STRING,                                        -- Clerk who handled the order\n",
    "  ship_priority INT,                                   -- Shipping priority of the order\n",
    "  comment STRING,                                      -- Additional comments about the order\n",
    "  CONSTRAINT pk_fact_orders PRIMARY KEY (fact_orders_key),  -- Primary key constraint on fact_orders_key\n",
    "  CONSTRAINT fk_customer FOREIGN KEY (dim_customer_key) REFERENCES labuser9889927_1744356335.gold.DimCustomer(dim_customer_key),  -- Foreign key constraint linking to DimCustomer\n",
    "  CONSTRAINT fk_date FOREIGN KEY (dim_date_key) REFERENCES labuser9889927_1744356335.gold.DimDate(dim_date_key)  -- Foreign key constraint linking to DimDate\n",
    ");"
   ]
  },
  {
   "cell_type": "markdown",
   "metadata": {
    "application/vnd.databricks.v1+cell": {
     "cellMetadata": {},
     "inputWidgets": {},
     "nuid": "2bdf1cde-419c-47ca-a054-72445ec7acea",
     "showTitle": false,
     "tableResultSettingsMap": {},
     "title": ""
    }
   },
   "source": [
    "#### Notes on `GENERATED ALWAYS AS IDENTITY`\n",
    "- Each table automatically generates unique numbers for the surrogate key column.  \n",
    "- You do not insert a value for those columns; Delta handles it seamlessly."
   ]
  },
  {
   "cell_type": "markdown",
   "metadata": {
    "application/vnd.databricks.v1+cell": {
     "cellMetadata": {},
     "inputWidgets": {},
     "nuid": "905c855f-9b2e-4cc5-9c53-1d3da6b89384",
     "showTitle": false,
     "tableResultSettingsMap": {},
     "title": ""
    }
   },
   "source": [
    "---"
   ]
  },
  {
   "cell_type": "markdown",
   "metadata": {
    "application/vnd.databricks.v1+cell": {
     "cellMetadata": {},
     "inputWidgets": {},
     "nuid": "6c0f2c13-9572-472a-a4ee-1c1f93084fc5",
     "showTitle": false,
     "tableResultSettingsMap": {},
     "title": ""
    }
   },
   "source": [
    "## Part 2: Loading Data into Silver\n",
    "\n",
    "We will load data from the TPC-H `bronze` tables into `refined_customer` and `refined_orders`. This step assumes your TPC-H dataset is in `bronze.customer` and `bronze.orders`."
   ]
  },
  {
   "cell_type": "code",
   "execution_count": 0,
   "metadata": {
    "application/vnd.databricks.v1+cell": {
     "cellMetadata": {
      "byteLimit": 2048000,
      "implicitDf": true,
      "rowLimit": 10000
     },
     "inputWidgets": {},
     "nuid": "214bd2e6-3d27-4573-baa3-edbcdccfcba5",
     "showTitle": false,
     "tableResultSettingsMap": {},
     "title": ""
    }
   },
   "outputs": [
    {
     "output_type": "display_data",
     "data": {
      "text/html": [
       "<style scoped>\n",
       "  .table-result-container {\n",
       "    max-height: 300px;\n",
       "    overflow: auto;\n",
       "  }\n",
       "  table, th, td {\n",
       "    border: 1px solid black;\n",
       "    border-collapse: collapse;\n",
       "  }\n",
       "  th, td {\n",
       "    padding: 5px;\n",
       "  }\n",
       "  th {\n",
       "    text-align: left;\n",
       "  }\n",
       "</style><div class='table-result-container'><table class='table-result'><thead style='background-color: white'><tr></tr></thead><tbody></tbody></table></div>"
      ]
     },
     "metadata": {
      "application/vnd.databricks.v1+output": {
       "addedWidgets": {},
       "aggData": [],
       "aggError": "",
       "aggOverflow": false,
       "aggSchema": [],
       "aggSeriesLimitReached": false,
       "aggType": "",
       "arguments": {},
       "columnCustomDisplayInfos": {},
       "data": [],
       "datasetInfos": [],
       "dbfsResultPath": null,
       "isJsonSchema": true,
       "metadata": {
        "dataframeName": null
       },
       "overflow": false,
       "plotOptions": {
        "customPlotOptions": {},
        "displayType": "table",
        "pivotAggregation": null,
        "pivotColumns": null,
        "xColumns": null,
        "yColumns": null
       },
       "removedWidgets": [],
       "schema": [],
       "type": "table"
      }
     },
     "output_type": "display_data"
    }
   ],
   "source": [
    "%sql\n",
    "-- Switch to the catalog using the extracted catalog name in DBSQL\n",
    "USE CATALOG IDENTIFIER(:catalog_name);\n",
    "\n",
    "-- Switch to the silver schema in DBSQL\n",
    "USE SCHEMA IDENTIFIER(:silver_schema);"
   ]
  },
  {
   "cell_type": "code",
   "execution_count": 0,
   "metadata": {
    "application/vnd.databricks.v1+cell": {
     "cellMetadata": {
      "byteLimit": 2048000,
      "implicitDf": true,
      "rowLimit": 10000
     },
     "inputWidgets": {},
     "nuid": "9c0980a9-583b-4d6b-b1af-cc12c394eace",
     "showTitle": true,
     "tableResultSettingsMap": {},
     "title": "INSERT INTO silver.refined_customer FROM bronze.customer"
    }
   },
   "outputs": [
    {
     "output_type": "display_data",
     "data": {
      "text/html": [
       "<style scoped>\n",
       "  .table-result-container {\n",
       "    max-height: 300px;\n",
       "    overflow: auto;\n",
       "  }\n",
       "  table, th, td {\n",
       "    border: 1px solid black;\n",
       "    border-collapse: collapse;\n",
       "  }\n",
       "  th, td {\n",
       "    padding: 5px;\n",
       "  }\n",
       "  th {\n",
       "    text-align: left;\n",
       "  }\n",
       "</style><div class='table-result-container'><table class='table-result'><thead style='background-color: white'><tr><th>num_affected_rows</th><th>num_inserted_rows</th></tr></thead><tbody><tr><td>750000</td><td>750000</td></tr></tbody></table></div>"
      ]
     },
     "metadata": {
      "application/vnd.databricks.v1+output": {
       "addedWidgets": {},
       "aggData": [],
       "aggError": "",
       "aggOverflow": false,
       "aggSchema": [],
       "aggSeriesLimitReached": false,
       "aggType": "",
       "arguments": {},
       "columnCustomDisplayInfos": {},
       "data": [
        [
         750000,
         750000
        ]
       ],
       "datasetInfos": [],
       "dbfsResultPath": null,
       "isJsonSchema": true,
       "metadata": {
        "createTempViewForImplicitDf": true,
        "dataframeName": "_sqldf",
        "executionCount": 6
       },
       "overflow": false,
       "plotOptions": {
        "customPlotOptions": {},
        "displayType": "table",
        "pivotAggregation": null,
        "pivotColumns": null,
        "xColumns": null,
        "yColumns": null
       },
       "removedWidgets": [],
       "schema": [
        {
         "metadata": "{}",
         "name": "num_affected_rows",
         "type": "\"long\""
        },
        {
         "metadata": "{}",
         "name": "num_inserted_rows",
         "type": "\"long\""
        }
       ],
       "type": "table"
      }
     },
     "output_type": "display_data"
    }
   ],
   "source": [
    "%sql\n",
    "-- Insert transformed data from the bronze.customer table into the refined_customer table\n",
    "INSERT INTO\n",
    "  refined_customer\n",
    "SELECT\n",
    "  c_custkey AS customer_id,                      -- Unique identifier for the customer\n",
    "  TRIM(c_name) AS name,                          -- Name of the customer\n",
    "  TRIM(c_address) AS address,                    -- Address of the customer\n",
    "  c_nationkey AS nation_key,                     -- Foreign key linking to the nation table\n",
    "  TRIM(c_phone) AS phone,                        -- Phone number of the customer\n",
    "  CAST(c_acctbal AS DECIMAL(12, 2)) AS acct_bal, -- Account balance of the customer\n",
    "  TRIM(c_mktsegment) AS market_segment,          -- Market segment of the customer\n",
    "  TRIM(c_comment) AS comment                     -- Additional comments about the customer\n",
    "FROM\n",
    "  bronze.customer;                               -- Source table in the bronze layer"
   ]
  },
  {
   "cell_type": "code",
   "execution_count": 0,
   "metadata": {
    "application/vnd.databricks.v1+cell": {
     "cellMetadata": {
      "byteLimit": 2048000,
      "implicitDf": true,
      "rowLimit": 10000
     },
     "inputWidgets": {},
     "nuid": "929473a0-041e-404f-95cc-982367b26f52",
     "showTitle": true,
     "tableResultSettingsMap": {},
     "title": "INSERT INTO silver.refined_orders FROM bronze.orders"
    }
   },
   "outputs": [
    {
     "output_type": "display_data",
     "data": {
      "text/html": [
       "<style scoped>\n",
       "  .table-result-container {\n",
       "    max-height: 300px;\n",
       "    overflow: auto;\n",
       "  }\n",
       "  table, th, td {\n",
       "    border: 1px solid black;\n",
       "    border-collapse: collapse;\n",
       "  }\n",
       "  th, td {\n",
       "    padding: 5px;\n",
       "  }\n",
       "  th {\n",
       "    text-align: left;\n",
       "  }\n",
       "</style><div class='table-result-container'><table class='table-result'><thead style='background-color: white'><tr><th>num_affected_rows</th><th>num_inserted_rows</th></tr></thead><tbody><tr><td>7500000</td><td>7500000</td></tr></tbody></table></div>"
      ]
     },
     "metadata": {
      "application/vnd.databricks.v1+output": {
       "addedWidgets": {},
       "aggData": [],
       "aggError": "",
       "aggOverflow": false,
       "aggSchema": [],
       "aggSeriesLimitReached": false,
       "aggType": "",
       "arguments": {},
       "columnCustomDisplayInfos": {},
       "data": [
        [
         7500000,
         7500000
        ]
       ],
       "datasetInfos": [],
       "dbfsResultPath": null,
       "isJsonSchema": true,
       "metadata": {
        "createTempViewForImplicitDf": true,
        "dataframeName": "_sqldf",
        "executionCount": 7
       },
       "overflow": false,
       "plotOptions": {
        "customPlotOptions": {},
        "displayType": "table",
        "pivotAggregation": null,
        "pivotColumns": null,
        "xColumns": null,
        "yColumns": null
       },
       "removedWidgets": [],
       "schema": [
        {
         "metadata": "{}",
         "name": "num_affected_rows",
         "type": "\"long\""
        },
        {
         "metadata": "{}",
         "name": "num_inserted_rows",
         "type": "\"long\""
        }
       ],
       "type": "table"
      }
     },
     "output_type": "display_data"
    }
   ],
   "source": [
    "%sql\n",
    "-- Insert transformed data from the bronze.orders table into the refined_orders table\n",
    "INSERT INTO\n",
    "  refined_orders\n",
    "SELECT\n",
    "  o_orderkey AS order_id,                      -- Unique identifier for the order\n",
    "  o_custkey AS customer_id,                    -- Foreign key linking to the customer table\n",
    "  TRIM(o_orderstatus) AS order_status,         -- Status of the order (e.g., pending, shipped)\n",
    "  CAST(o_totalprice AS DECIMAL(12, 2)) AS total_price,  -- Total price of the order\n",
    "  o_orderdate AS order_date,                   -- Date when the order was placed\n",
    "  TRIM(o_orderpriority) AS order_priority,     -- Priority level of the order\n",
    "  TRIM(o_clerk) AS clerk,                      -- Clerk who handled the order\n",
    "  o_shippriority AS ship_priority,             -- Shipping priority of the order\n",
    "  TRIM(o_comment) AS comment                   -- Additional comments about the order\n",
    "FROM\n",
    "  bronze.orders;                               -- Source table in the bronze layer"
   ]
  },
  {
   "cell_type": "markdown",
   "metadata": {
    "application/vnd.databricks.v1+cell": {
     "cellMetadata": {},
     "inputWidgets": {},
     "nuid": "e9109ca6-b971-47ab-aa71-e9507868f74b",
     "showTitle": false,
     "tableResultSettingsMap": {},
     "title": ""
    }
   },
   "source": [
    "#### Validation\n",
    "Check if records loaded into `refined_customer` and `refined_orders`:"
   ]
  },
  {
   "cell_type": "code",
   "execution_count": 0,
   "metadata": {
    "application/vnd.databricks.v1+cell": {
     "cellMetadata": {
      "byteLimit": 2048000,
      "implicitDf": true,
      "rowLimit": 10000
     },
     "inputWidgets": {},
     "nuid": "26c82cc4-574e-408a-b7d8-b256cfeeecc4",
     "showTitle": true,
     "tableResultSettingsMap": {},
     "title": "display(refined_customer), display(refined_orders)"
    }
   },
   "outputs": [
    {
     "output_type": "display_data",
     "data": {
      "text/html": [
       "<style scoped>\n",
       "  .table-result-container {\n",
       "    max-height: 300px;\n",
       "    overflow: auto;\n",
       "  }\n",
       "  table, th, td {\n",
       "    border: 1px solid black;\n",
       "    border-collapse: collapse;\n",
       "  }\n",
       "  th, td {\n",
       "    padding: 5px;\n",
       "  }\n",
       "  th {\n",
       "    text-align: left;\n",
       "  }\n",
       "</style><div class='table-result-container'><table class='table-result'><thead style='background-color: white'><tr><th>refined_customer_count</th></tr></thead><tbody><tr><td>750000</td></tr></tbody></table></div>"
      ]
     },
     "metadata": {
      "application/vnd.databricks.v1+output": {
       "addedWidgets": {},
       "aggData": [],
       "aggError": "",
       "aggOverflow": false,
       "aggSchema": [],
       "aggSeriesLimitReached": false,
       "aggType": "",
       "arguments": {},
       "columnCustomDisplayInfos": {},
       "data": [
        [
         750000
        ]
       ],
       "datasetInfos": [],
       "dbfsResultPath": null,
       "isJsonSchema": true,
       "metadata": {
        "createTempViewForImplicitDf": true,
        "dataframeName": "_sqldf",
        "executionCount": 8
       },
       "overflow": false,
       "plotOptions": {
        "customPlotOptions": {},
        "displayType": "table",
        "pivotAggregation": null,
        "pivotColumns": null,
        "xColumns": null,
        "yColumns": null
       },
       "removedWidgets": [],
       "schema": [
        {
         "metadata": "{}",
         "name": "refined_customer_count",
         "type": "\"long\""
        }
       ],
       "type": "table"
      }
     },
     "output_type": "display_data"
    }
   ],
   "source": [
    "%sql\n",
    "-- Display the count of records in the refined_customer table\n",
    "SELECT COUNT(*) AS refined_customer_count FROM refined_customer"
   ]
  },
  {
   "cell_type": "code",
   "execution_count": 0,
   "metadata": {
    "application/vnd.databricks.v1+cell": {
     "cellMetadata": {
      "byteLimit": 2048000,
      "implicitDf": true,
      "rowLimit": 10000
     },
     "inputWidgets": {},
     "nuid": "ab00c87d-a9a4-4ef6-b75a-5d8d4c620a38",
     "showTitle": false,
     "tableResultSettingsMap": {},
     "title": ""
    }
   },
   "outputs": [
    {
     "output_type": "display_data",
     "data": {
      "text/html": [
       "<style scoped>\n",
       "  .table-result-container {\n",
       "    max-height: 300px;\n",
       "    overflow: auto;\n",
       "  }\n",
       "  table, th, td {\n",
       "    border: 1px solid black;\n",
       "    border-collapse: collapse;\n",
       "  }\n",
       "  th, td {\n",
       "    padding: 5px;\n",
       "  }\n",
       "  th {\n",
       "    text-align: left;\n",
       "  }\n",
       "</style><div class='table-result-container'><table class='table-result'><thead style='background-color: white'><tr><th>refined_orders_count</th></tr></thead><tbody><tr><td>7500000</td></tr></tbody></table></div>"
      ]
     },
     "metadata": {
      "application/vnd.databricks.v1+output": {
       "addedWidgets": {},
       "aggData": [],
       "aggError": "",
       "aggOverflow": false,
       "aggSchema": [],
       "aggSeriesLimitReached": false,
       "aggType": "",
       "arguments": {},
       "columnCustomDisplayInfos": {},
       "data": [
        [
         7500000
        ]
       ],
       "datasetInfos": [],
       "dbfsResultPath": null,
       "isJsonSchema": true,
       "metadata": {
        "createTempViewForImplicitDf": true,
        "dataframeName": "_sqldf",
        "executionCount": 9
       },
       "overflow": false,
       "plotOptions": {
        "customPlotOptions": {},
        "displayType": "table",
        "pivotAggregation": null,
        "pivotColumns": null,
        "xColumns": null,
        "yColumns": null
       },
       "removedWidgets": [],
       "schema": [
        {
         "metadata": "{}",
         "name": "refined_orders_count",
         "type": "\"long\""
        }
       ],
       "type": "table"
      }
     },
     "output_type": "display_data"
    }
   ],
   "source": [
    "%sql\n",
    "-- Display the count of records in the refined_orders table\n",
    "SELECT COUNT(*) AS refined_orders_count FROM refined_orders"
   ]
  },
  {
   "cell_type": "code",
   "execution_count": 0,
   "metadata": {
    "application/vnd.databricks.v1+cell": {
     "cellMetadata": {},
     "inputWidgets": {},
     "nuid": "74bba1dc-74f7-4529-8546-e69a49dfb092",
     "showTitle": false,
     "tableResultSettingsMap": {},
     "title": ""
    }
   },
   "outputs": [],
   "source": [
    "%sql\n",
    "-- Display the count of records in the refined_customer table\n",
    "SELECT COUNT(*) AS refined_customer_count FROM refined_customer"
   ]
  },
  {
   "cell_type": "code",
   "execution_count": 0,
   "metadata": {
    "application/vnd.databricks.v1+cell": {
     "cellMetadata": {
      "byteLimit": 2048000,
      "implicitDf": true,
      "rowLimit": 10000
     },
     "inputWidgets": {},
     "nuid": "31a237fe-7e54-46cb-8bda-1dd153aba6bf",
     "showTitle": false,
     "tableResultSettingsMap": {},
     "title": ""
    }
   },
   "outputs": [
    {
     "output_type": "display_data",
     "data": {
      "text/html": [
       "<style scoped>\n",
       "  .table-result-container {\n",
       "    max-height: 300px;\n",
       "    overflow: auto;\n",
       "  }\n",
       "  table, th, td {\n",
       "    border: 1px solid black;\n",
       "    border-collapse: collapse;\n",
       "  }\n",
       "  th, td {\n",
       "    padding: 5px;\n",
       "  }\n",
       "  th {\n",
       "    text-align: left;\n",
       "  }\n",
       "</style><div class='table-result-container'><table class='table-result'><thead style='background-color: white'><tr><th>refined_orders_count</th></tr></thead><tbody><tr><td>7500000</td></tr></tbody></table></div>"
      ]
     },
     "metadata": {
      "application/vnd.databricks.v1+output": {
       "addedWidgets": {},
       "aggData": [],
       "aggError": "",
       "aggOverflow": false,
       "aggSchema": [],
       "aggSeriesLimitReached": false,
       "aggType": "",
       "arguments": {},
       "columnCustomDisplayInfos": {},
       "data": [
        [
         7500000
        ]
       ],
       "datasetInfos": [],
       "dbfsResultPath": null,
       "isJsonSchema": true,
       "metadata": {
        "createTempViewForImplicitDf": true,
        "dataframeName": "_sqldf",
        "executionCount": 10
       },
       "overflow": false,
       "plotOptions": {
        "customPlotOptions": {},
        "displayType": "table",
        "pivotAggregation": null,
        "pivotColumns": null,
        "xColumns": null,
        "yColumns": null
       },
       "removedWidgets": [],
       "schema": [
        {
         "metadata": "{}",
         "name": "refined_orders_count",
         "type": "\"long\""
        }
       ],
       "type": "table"
      }
     },
     "output_type": "display_data"
    }
   ],
   "source": [
    "%sql\n",
    "-- Display the count of records in the refined_orders table\n",
    "SELECT COUNT(*) AS refined_orders_count FROM refined_orders"
   ]
  },
  {
   "cell_type": "markdown",
   "metadata": {
    "application/vnd.databricks.v1+cell": {
     "cellMetadata": {},
     "inputWidgets": {},
     "nuid": "86fb30d7-1b2e-4808-a74a-001f6bf4a369",
     "showTitle": false,
     "tableResultSettingsMap": {},
     "title": ""
    }
   },
   "source": [
    "---"
   ]
  },
  {
   "cell_type": "markdown",
   "metadata": {
    "application/vnd.databricks.v1+cell": {
     "cellMetadata": {},
     "inputWidgets": {},
     "nuid": "ce4e18d5-3d1c-41d7-ab0d-c1229bfe9a2a",
     "showTitle": false,
     "tableResultSettingsMap": {},
     "title": ""
    }
   },
   "source": [
    "## Part 3: Initial Load into Gold (Dimensional Model)\n",
    "\n",
    "#### Key Steps:\n",
    "1. Perform an **initial load** of `DimCustomer` (all customers as *current*).  \n",
    "2. Create date entries in `DimDate` from `refined_orders`. (This can be a pre loaded table for daily dates for multiple years)  \n",
    "3. Populate `FactOrders`, linking each order to the correct dimension keys."
   ]
  },
  {
   "cell_type": "code",
   "execution_count": 0,
   "metadata": {
    "application/vnd.databricks.v1+cell": {
     "cellMetadata": {
      "byteLimit": 2048000,
      "implicitDf": true,
      "rowLimit": 10000
     },
     "inputWidgets": {},
     "nuid": "43656072-5a8c-4121-bb8a-f7879b75e932",
     "showTitle": false,
     "tableResultSettingsMap": {},
     "title": ""
    }
   },
   "outputs": [
    {
     "output_type": "display_data",
     "data": {
      "text/html": [
       "<style scoped>\n",
       "  .table-result-container {\n",
       "    max-height: 300px;\n",
       "    overflow: auto;\n",
       "  }\n",
       "  table, th, td {\n",
       "    border: 1px solid black;\n",
       "    border-collapse: collapse;\n",
       "  }\n",
       "  th, td {\n",
       "    padding: 5px;\n",
       "  }\n",
       "  th {\n",
       "    text-align: left;\n",
       "  }\n",
       "</style><div class='table-result-container'><table class='table-result'><thead style='background-color: white'><tr></tr></thead><tbody></tbody></table></div>"
      ]
     },
     "metadata": {
      "application/vnd.databricks.v1+output": {
       "addedWidgets": {},
       "aggData": [],
       "aggError": "",
       "aggOverflow": false,
       "aggSchema": [],
       "aggSeriesLimitReached": false,
       "aggType": "",
       "arguments": {},
       "columnCustomDisplayInfos": {},
       "data": [],
       "datasetInfos": [],
       "dbfsResultPath": null,
       "isJsonSchema": true,
       "metadata": {
        "dataframeName": null
       },
       "overflow": false,
       "plotOptions": {
        "customPlotOptions": {},
        "displayType": "table",
        "pivotAggregation": null,
        "pivotColumns": null,
        "xColumns": null,
        "yColumns": null
       },
       "removedWidgets": [],
       "schema": [],
       "type": "table"
      }
     },
     "output_type": "display_data"
    }
   ],
   "source": [
    "%sql\n",
    "-- Switch to the gold schema using the USE SCHEMA SQL command\n",
    "USE SCHEMA IDENTIFIER(:gold_schema);"
   ]
  },
  {
   "cell_type": "markdown",
   "metadata": {
    "application/vnd.databricks.v1+cell": {
     "cellMetadata": {},
     "inputWidgets": {},
     "nuid": "d095b72b-b970-447e-ac8b-74cae886aeae",
     "showTitle": false,
     "tableResultSettingsMap": {},
     "title": ""
    }
   },
   "source": [
    "### 3.1 DimCustomer (SCD Type 2) Initial Load\n",
    "- Mark every row with `start_date = CURRENT_DATE()`, `end_date = NULL`, and `is_current = TRUE`."
   ]
  },
  {
   "cell_type": "code",
   "execution_count": 0,
   "metadata": {
    "application/vnd.databricks.v1+cell": {
     "cellMetadata": {
      "byteLimit": 2048000,
      "implicitDf": true,
      "rowLimit": 10000
     },
     "inputWidgets": {},
     "nuid": "ef9c2584-9ee3-488e-a2d3-9cfa0675314f",
     "showTitle": true,
     "tableResultSettingsMap": {},
     "title": "INSERT INTO DimCustomer from silver.refined_customer"
    }
   },
   "outputs": [
    {
     "output_type": "display_data",
     "data": {
      "text/html": [
       "<style scoped>\n",
       "  .table-result-container {\n",
       "    max-height: 300px;\n",
       "    overflow: auto;\n",
       "  }\n",
       "  table, th, td {\n",
       "    border: 1px solid black;\n",
       "    border-collapse: collapse;\n",
       "  }\n",
       "  th, td {\n",
       "    padding: 5px;\n",
       "  }\n",
       "  th {\n",
       "    text-align: left;\n",
       "  }\n",
       "</style><div class='table-result-container'><table class='table-result'><thead style='background-color: white'><tr><th>num_affected_rows</th><th>num_inserted_rows</th></tr></thead><tbody><tr><td>750000</td><td>750000</td></tr></tbody></table></div>"
      ]
     },
     "metadata": {
      "application/vnd.databricks.v1+output": {
       "addedWidgets": {},
       "aggData": [],
       "aggError": "",
       "aggOverflow": false,
       "aggSchema": [],
       "aggSeriesLimitReached": false,
       "aggType": "",
       "arguments": {},
       "columnCustomDisplayInfos": {},
       "data": [
        [
         750000,
         750000
        ]
       ],
       "datasetInfos": [],
       "dbfsResultPath": null,
       "isJsonSchema": true,
       "metadata": {
        "createTempViewForImplicitDf": true,
        "dataframeName": "_sqldf",
        "executionCount": 11
       },
       "overflow": false,
       "plotOptions": {
        "customPlotOptions": {},
        "displayType": "table",
        "pivotAggregation": null,
        "pivotColumns": null,
        "xColumns": null,
        "yColumns": null
       },
       "removedWidgets": [],
       "schema": [
        {
         "metadata": "{}",
         "name": "num_affected_rows",
         "type": "\"long\""
        },
        {
         "metadata": "{}",
         "name": "num_inserted_rows",
         "type": "\"long\""
        }
       ],
       "type": "table"
      }
     },
     "output_type": "display_data"
    }
   ],
   "source": [
    "%sql\n",
    "-- Insert data into the DimCustomer dimension table\n",
    "INSERT INTO DimCustomer\n",
    "(\n",
    "  customer_id,    -- Unique identifier for the customer\n",
    "  name,           -- Name of the customer\n",
    "  address,        -- Address of the customer\n",
    "  nation_key,     -- Key representing the nation of the customer\n",
    "  phone,          -- Phone number of the customer\n",
    "  acct_bal,       -- Account balance of the customer\n",
    "  market_segment, -- Market segment of the customer\n",
    "  comment,        -- Additional comments about the customer\n",
    "  start_date,     -- Start date of the record\n",
    "  end_date,       -- End date of the record (NULL for current records)\n",
    "  is_current      -- Flag indicating if the record is current\n",
    ")\n",
    "SELECT\n",
    "  customer_id,    -- Select customer_id from the source table\n",
    "  name,           -- Select name from the source table\n",
    "  address,        -- Select address from the source table\n",
    "  nation_key,     -- Select nation_key from the source table\n",
    "  phone,          -- Select phone from the source table\n",
    "  acct_bal,       -- Select acct_bal from the source table\n",
    "  market_segment, -- Select market_segment from the source table\n",
    "  `comment`,      -- Select comment from the source table\n",
    "  CURRENT_DATE(), -- Set start_date to the current date\n",
    "  NULL,           -- Set end_date to NULL for current records\n",
    "  TRUE            -- Set is_current to TRUE for current records\n",
    "FROM IDENTIFIER(:silver_schema || '.' || 'refined_customer')   -- Source table in the silver schema"
   ]
  },
  {
   "cell_type": "markdown",
   "metadata": {
    "application/vnd.databricks.v1+cell": {
     "cellMetadata": {},
     "inputWidgets": {},
     "nuid": "29188924-bc13-4c9a-a9b4-ec7903e80a67",
     "showTitle": false,
     "tableResultSettingsMap": {},
     "title": ""
    }
   },
   "source": [
    "### 3.2 DimDate\n",
    "- Collect unique `order_date` values from `refined_orders`.  \n",
    "- Use built-in functions to split them into `day, month, year`."
   ]
  },
  {
   "cell_type": "code",
   "execution_count": 0,
   "metadata": {
    "application/vnd.databricks.v1+cell": {
     "cellMetadata": {
      "byteLimit": 2048000,
      "implicitDf": true,
      "rowLimit": 10000
     },
     "inputWidgets": {},
     "nuid": "9456f680-80d3-4aee-b446-258d18bbaa4a",
     "showTitle": true,
     "tableResultSettingsMap": {},
     "title": "INSERT INTO DimDate FROM silver.refined_orders"
    }
   },
   "outputs": [
    {
     "output_type": "display_data",
     "data": {
      "text/html": [
       "<style scoped>\n",
       "  .table-result-container {\n",
       "    max-height: 300px;\n",
       "    overflow: auto;\n",
       "  }\n",
       "  table, th, td {\n",
       "    border: 1px solid black;\n",
       "    border-collapse: collapse;\n",
       "  }\n",
       "  th, td {\n",
       "    padding: 5px;\n",
       "  }\n",
       "  th {\n",
       "    text-align: left;\n",
       "  }\n",
       "</style><div class='table-result-container'><table class='table-result'><thead style='background-color: white'><tr><th>num_affected_rows</th><th>num_inserted_rows</th></tr></thead><tbody><tr><td>2406</td><td>2406</td></tr></tbody></table></div>"
      ]
     },
     "metadata": {
      "application/vnd.databricks.v1+output": {
       "addedWidgets": {},
       "aggData": [],
       "aggError": "",
       "aggOverflow": false,
       "aggSchema": [],
       "aggSeriesLimitReached": false,
       "aggType": "",
       "arguments": {},
       "columnCustomDisplayInfos": {},
       "data": [
        [
         2406,
         2406
        ]
       ],
       "datasetInfos": [],
       "dbfsResultPath": null,
       "isJsonSchema": true,
       "metadata": {
        "createTempViewForImplicitDf": true,
        "dataframeName": "_sqldf",
        "executionCount": 12
       },
       "overflow": false,
       "plotOptions": {
        "customPlotOptions": {},
        "displayType": "table",
        "pivotAggregation": null,
        "pivotColumns": null,
        "xColumns": null,
        "yColumns": null
       },
       "removedWidgets": [],
       "schema": [
        {
         "metadata": "{}",
         "name": "num_affected_rows",
         "type": "\"long\""
        },
        {
         "metadata": "{}",
         "name": "num_inserted_rows",
         "type": "\"long\""
        }
       ],
       "type": "table"
      }
     },
     "output_type": "display_data"
    }
   ],
   "source": [
    "%sql\n",
    "-- Insert distinct dates into the DimDate dimension table\n",
    "INSERT INTO DimDate\n",
    "(\n",
    "  full_date,  -- Full date value\n",
    "  day,        -- Day part of the date\n",
    "  month,      -- Month part of the date\n",
    "  year        -- Year part of the date\n",
    ")\n",
    "SELECT DISTINCT\n",
    "  order_date,          -- Full date value from refined_orders\n",
    "  DAY(order_date),     -- Extracted day part of the date\n",
    "  MONTH(order_date),   -- Extracted month part of the date\n",
    "  YEAR(order_date)     -- Extracted year part of the date\n",
    "FROM IDENTIFIER(:silver_schema || '.' || 'refined_orders')\n",
    "WHERE order_date IS NOT NULL  -- Ensure the date is not null"
   ]
  },
  {
   "cell_type": "markdown",
   "metadata": {
    "application/vnd.databricks.v1+cell": {
     "cellMetadata": {},
     "inputWidgets": {},
     "nuid": "fad0af0d-8484-417a-81eb-c7e3766d19e6",
     "showTitle": false,
     "tableResultSettingsMap": {},
     "title": ""
    }
   },
   "source": [
    "### 3.3 FactOrders\n",
    "- Link each order to `DimCustomer` and `DimDate`.  \n",
    "- We join on `(customer_id = dc.customer_id AND is_current = TRUE)` for SCD Type 2, ensuring we match only an active dimension record."
   ]
  },
  {
   "cell_type": "code",
   "execution_count": 0,
   "metadata": {
    "application/vnd.databricks.v1+cell": {
     "cellMetadata": {
      "byteLimit": 2048000,
      "implicitDf": true,
      "rowLimit": 10000
     },
     "inputWidgets": {},
     "nuid": "547bf0cd-6ea5-4172-bf69-a45af20cf426",
     "showTitle": true,
     "tableResultSettingsMap": {},
     "title": "INSERT INTO FactOrders FROM silver.refined_orders JOIN DimCustomer JOIN DimDate"
    }
   },
   "outputs": [
    {
     "output_type": "display_data",
     "data": {
      "text/html": [
       "<style scoped>\n",
       "  .table-result-container {\n",
       "    max-height: 300px;\n",
       "    overflow: auto;\n",
       "  }\n",
       "  table, th, td {\n",
       "    border: 1px solid black;\n",
       "    border-collapse: collapse;\n",
       "  }\n",
       "  th, td {\n",
       "    padding: 5px;\n",
       "  }\n",
       "  th {\n",
       "    text-align: left;\n",
       "  }\n",
       "</style><div class='table-result-container'><table class='table-result'><thead style='background-color: white'><tr><th>num_affected_rows</th><th>num_inserted_rows</th></tr></thead><tbody><tr><td>7500000</td><td>7500000</td></tr></tbody></table></div>"
      ]
     },
     "metadata": {
      "application/vnd.databricks.v1+output": {
       "addedWidgets": {},
       "aggData": [],
       "aggError": "",
       "aggOverflow": false,
       "aggSchema": [],
       "aggSeriesLimitReached": false,
       "aggType": "",
       "arguments": {},
       "columnCustomDisplayInfos": {},
       "data": [
        [
         7500000,
         7500000
        ]
       ],
       "datasetInfos": [],
       "dbfsResultPath": null,
       "isJsonSchema": true,
       "metadata": {
        "createTempViewForImplicitDf": true,
        "dataframeName": "_sqldf",
        "executionCount": 13
       },
       "overflow": false,
       "plotOptions": {
        "customPlotOptions": {},
        "displayType": "table",
        "pivotAggregation": null,
        "pivotColumns": null,
        "xColumns": null,
        "yColumns": null
       },
       "removedWidgets": [],
       "schema": [
        {
         "metadata": "{}",
         "name": "num_affected_rows",
         "type": "\"long\""
        },
        {
         "metadata": "{}",
         "name": "num_inserted_rows",
         "type": "\"long\""
        }
       ],
       "type": "table"
      }
     },
     "output_type": "display_data"
    }
   ],
   "source": [
    "%sql\n",
    "-- Insert data into the FactOrders table\n",
    "INSERT INTO FactOrders\n",
    "(\n",
    "  order_id,          -- Unique identifier for the order\n",
    "  dim_customer_key,  -- Foreign key referencing the customer dimension\n",
    "  dim_date_key,      -- Foreign key referencing the date dimension\n",
    "  total_price,       -- Total price of the order\n",
    "  order_status,      -- Status of the order\n",
    "  order_priority,    -- Priority of the order\n",
    "  clerk,             -- Clerk handling the order\n",
    "  ship_priority,     -- Shipping priority of the order\n",
    "  comment            -- Additional comments about the order\n",
    ")\n",
    "SELECT\n",
    "  ro.order_id,       -- Select order_id from refined_orders\n",
    "  dc.dim_customer_key, -- Select dim_customer_key from DimCustomer\n",
    "  dd.dim_date_key,   -- Select dim_date_key from DimDate\n",
    "  ro.total_price,    -- Select total_price from refined_orders\n",
    "  ro.order_status,   -- Select order_status from refined_orders\n",
    "  ro.order_priority, -- Select order_priority from refined_orders\n",
    "  ro.clerk,          -- Select clerk from refined_orders\n",
    "  ro.ship_priority,  -- Select ship_priority from refined_orders\n",
    "  ro.comment         -- Select comment from refined_orders\n",
    "FROM IDENTIFIER(:silver_schema || '.' || 'refined_orders') ro\n",
    "JOIN DimCustomer dc\n",
    "  ON ro.customer_id = dc.customer_id\n",
    "  AND dc.is_current = TRUE -- Join on customer_id and ensure the customer record is current\n",
    "JOIN DimDate dd\n",
    "  ON ro.order_date = dd.full_date -- Join on order_date and full_date"
   ]
  },
  {
   "cell_type": "markdown",
   "metadata": {
    "application/vnd.databricks.v1+cell": {
     "cellMetadata": {},
     "inputWidgets": {},
     "nuid": "7abf2295-48a0-4fc0-8a0b-f0b80b75cebc",
     "showTitle": false,
     "tableResultSettingsMap": {},
     "title": ""
    }
   },
   "source": [
    "#### Validation\n",
    "Check record counts in each **gold** table:"
   ]
  },
  {
   "cell_type": "code",
   "execution_count": 0,
   "metadata": {
    "application/vnd.databricks.v1+cell": {
     "cellMetadata": {
      "byteLimit": 2048000,
      "implicitDf": true,
      "rowLimit": 10000
     },
     "inputWidgets": {},
     "nuid": "866c4876-0c45-4eaa-9f83-385f1e296ebc",
     "showTitle": false,
     "tableResultSettingsMap": {},
     "title": ""
    }
   },
   "outputs": [
    {
     "output_type": "display_data",
     "data": {
      "text/html": [
       "<style scoped>\n",
       "  .table-result-container {\n",
       "    max-height: 300px;\n",
       "    overflow: auto;\n",
       "  }\n",
       "  table, th, td {\n",
       "    border: 1px solid black;\n",
       "    border-collapse: collapse;\n",
       "  }\n",
       "  th, td {\n",
       "    padding: 5px;\n",
       "  }\n",
       "  th {\n",
       "    text-align: left;\n",
       "  }\n",
       "</style><div class='table-result-container'><table class='table-result'><thead style='background-color: white'><tr><th>table_name</th><th>record_count</th></tr></thead><tbody><tr><td>DimCustomer</td><td>750000</td></tr></tbody></table></div>"
      ]
     },
     "metadata": {
      "application/vnd.databricks.v1+output": {
       "addedWidgets": {},
       "aggData": [],
       "aggError": "",
       "aggOverflow": false,
       "aggSchema": [],
       "aggSeriesLimitReached": false,
       "aggType": "",
       "arguments": {},
       "columnCustomDisplayInfos": {},
       "data": [
        [
         "DimCustomer",
         750000
        ]
       ],
       "datasetInfos": [],
       "dbfsResultPath": null,
       "isJsonSchema": true,
       "metadata": {
        "createTempViewForImplicitDf": true,
        "dataframeName": "_sqldf",
        "executionCount": 14
       },
       "overflow": false,
       "plotOptions": {
        "customPlotOptions": {},
        "displayType": "table",
        "pivotAggregation": null,
        "pivotColumns": null,
        "xColumns": null,
        "yColumns": null
       },
       "removedWidgets": [],
       "schema": [
        {
         "metadata": "{}",
         "name": "table_name",
         "type": "\"string\""
        },
        {
         "metadata": "{}",
         "name": "record_count",
         "type": "\"long\""
        }
       ],
       "type": "table"
      }
     },
     "output_type": "display_data"
    }
   ],
   "source": [
    "%sql\n",
    "-- Display the record count for the DimCustomer table\n",
    "SELECT 'DimCustomer' AS table_name, COUNT(*) AS record_count FROM DimCustomer"
   ]
  },
  {
   "cell_type": "code",
   "execution_count": 0,
   "metadata": {
    "application/vnd.databricks.v1+cell": {
     "cellMetadata": {
      "byteLimit": 2048000,
      "implicitDf": true,
      "rowLimit": 10000
     },
     "inputWidgets": {},
     "nuid": "1b0ac3df-25fd-49f3-b15a-bf5612ab560f",
     "showTitle": false,
     "tableResultSettingsMap": {},
     "title": ""
    }
   },
   "outputs": [
    {
     "output_type": "display_data",
     "data": {
      "text/html": [
       "<style scoped>\n",
       "  .table-result-container {\n",
       "    max-height: 300px;\n",
       "    overflow: auto;\n",
       "  }\n",
       "  table, th, td {\n",
       "    border: 1px solid black;\n",
       "    border-collapse: collapse;\n",
       "  }\n",
       "  th, td {\n",
       "    padding: 5px;\n",
       "  }\n",
       "  th {\n",
       "    text-align: left;\n",
       "  }\n",
       "</style><div class='table-result-container'><table class='table-result'><thead style='background-color: white'><tr><th>table_name</th><th>record_count</th></tr></thead><tbody><tr><td>DimDate</td><td>2406</td></tr></tbody></table></div>"
      ]
     },
     "metadata": {
      "application/vnd.databricks.v1+output": {
       "addedWidgets": {},
       "aggData": [],
       "aggError": "",
       "aggOverflow": false,
       "aggSchema": [],
       "aggSeriesLimitReached": false,
       "aggType": "",
       "arguments": {},
       "columnCustomDisplayInfos": {},
       "data": [
        [
         "DimDate",
         2406
        ]
       ],
       "datasetInfos": [],
       "dbfsResultPath": null,
       "isJsonSchema": true,
       "metadata": {
        "createTempViewForImplicitDf": true,
        "dataframeName": "_sqldf",
        "executionCount": 15
       },
       "overflow": false,
       "plotOptions": {
        "customPlotOptions": {},
        "displayType": "table",
        "pivotAggregation": null,
        "pivotColumns": null,
        "xColumns": null,
        "yColumns": null
       },
       "removedWidgets": [],
       "schema": [
        {
         "metadata": "{}",
         "name": "table_name",
         "type": "\"string\""
        },
        {
         "metadata": "{}",
         "name": "record_count",
         "type": "\"long\""
        }
       ],
       "type": "table"
      }
     },
     "output_type": "display_data"
    }
   ],
   "source": [
    "%sql\n",
    "-- Display the record count for the DimDate table\n",
    "SELECT 'DimDate' AS table_name, COUNT(*) AS record_count FROM DimDate"
   ]
  },
  {
   "cell_type": "code",
   "execution_count": 0,
   "metadata": {
    "application/vnd.databricks.v1+cell": {
     "cellMetadata": {
      "byteLimit": 2048000,
      "implicitDf": true,
      "rowLimit": 10000
     },
     "inputWidgets": {},
     "nuid": "b07d33ca-a893-4de0-9dec-183a92d82e0c",
     "showTitle": false,
     "tableResultSettingsMap": {},
     "title": ""
    }
   },
   "outputs": [
    {
     "output_type": "display_data",
     "data": {
      "text/html": [
       "<style scoped>\n",
       "  .table-result-container {\n",
       "    max-height: 300px;\n",
       "    overflow: auto;\n",
       "  }\n",
       "  table, th, td {\n",
       "    border: 1px solid black;\n",
       "    border-collapse: collapse;\n",
       "  }\n",
       "  th, td {\n",
       "    padding: 5px;\n",
       "  }\n",
       "  th {\n",
       "    text-align: left;\n",
       "  }\n",
       "</style><div class='table-result-container'><table class='table-result'><thead style='background-color: white'><tr><th>table_name</th><th>record_count</th></tr></thead><tbody><tr><td>FactOrders</td><td>7500000</td></tr></tbody></table></div>"
      ]
     },
     "metadata": {
      "application/vnd.databricks.v1+output": {
       "addedWidgets": {},
       "aggData": [],
       "aggError": "",
       "aggOverflow": false,
       "aggSchema": [],
       "aggSeriesLimitReached": false,
       "aggType": "",
       "arguments": {},
       "columnCustomDisplayInfos": {},
       "data": [
        [
         "FactOrders",
         7500000
        ]
       ],
       "datasetInfos": [],
       "dbfsResultPath": null,
       "isJsonSchema": true,
       "metadata": {
        "createTempViewForImplicitDf": true,
        "dataframeName": "_sqldf",
        "executionCount": 16
       },
       "overflow": false,
       "plotOptions": {
        "customPlotOptions": {},
        "displayType": "table",
        "pivotAggregation": null,
        "pivotColumns": null,
        "xColumns": null,
        "yColumns": null
       },
       "removedWidgets": [],
       "schema": [
        {
         "metadata": "{}",
         "name": "table_name",
         "type": "\"string\""
        },
        {
         "metadata": "{}",
         "name": "record_count",
         "type": "\"long\""
        }
       ],
       "type": "table"
      }
     },
     "output_type": "display_data"
    }
   ],
   "source": [
    "%sql\n",
    "-- Display the record count for the FactOrders table\n",
    "SELECT 'FactOrders' AS table_name, COUNT(*) AS record_count FROM FactOrders"
   ]
  },
  {
   "cell_type": "markdown",
   "metadata": {
    "application/vnd.databricks.v1+cell": {
     "cellMetadata": {},
     "inputWidgets": {},
     "nuid": "0f256cc1-a9e1-4b2d-bfcf-87a55b6ce11c",
     "showTitle": false,
     "tableResultSettingsMap": {},
     "title": ""
    }
   },
   "source": [
    "---"
   ]
  },
  {
   "cell_type": "markdown",
   "metadata": {
    "application/vnd.databricks.v1+cell": {
     "cellMetadata": {},
     "inputWidgets": {},
     "nuid": "26fd7a96-2672-4d14-8ca8-5d1f22ff542e",
     "showTitle": false,
     "tableResultSettingsMap": {},
     "title": ""
    }
   },
   "source": [
    "## Part 4: Incremental Updates (SCD Type 2 MERGE)\n",
    "\n",
    "In real life, you would detect changes in `refined_customer` over time (e.g., a changed address or a new customer). When you see a difference:\n",
    "1. **Close** the old record in DimCustomer (`end_date = <current date>`, `is_current = FALSE`).  \n",
    "2. **Insert** a new record (with the updated attributes, `start_date = <current date>`, `end_date = NULL`, `is_current = TRUE`).  \n",
    "\n",
    "Below is a single MERGE statement that can update the old record and insert the new version in one pass."
   ]
  },
  {
   "cell_type": "markdown",
   "metadata": {
    "application/vnd.databricks.v1+cell": {
     "cellMetadata": {},
     "inputWidgets": {},
     "nuid": "611a2bda-94e9-4486-bd71-4a8c16c0d3c1",
     "showTitle": false,
     "tableResultSettingsMap": {},
     "title": ""
    }
   },
   "source": [
    "### 4.1 Example: Create Dummy Incremental Changes\n",
    "\n",
    "This simulates:  \n",
    "- An *existing* customer (ID=101) changing their address.  \n",
    "- A *brand-new* customer (ID=99999)."
   ]
  },
  {
   "cell_type": "code",
   "execution_count": 0,
   "metadata": {
    "application/vnd.databricks.v1+cell": {
     "cellMetadata": {
      "byteLimit": 2048000,
      "implicitDf": true,
      "rowLimit": 10000
     },
     "inputWidgets": {},
     "nuid": "9f03aec3-c8c4-4103-9938-8c23d479b2aa",
     "showTitle": true,
     "tableResultSettingsMap": {},
     "title": "CREATE OR REPLACE TEMP VIEW incremental_customer_updates"
    }
   },
   "outputs": [
    {
     "output_type": "display_data",
     "data": {
      "text/html": [
       "<style scoped>\n",
       "  .table-result-container {\n",
       "    max-height: 300px;\n",
       "    overflow: auto;\n",
       "  }\n",
       "  table, th, td {\n",
       "    border: 1px solid black;\n",
       "    border-collapse: collapse;\n",
       "  }\n",
       "  th, td {\n",
       "    padding: 5px;\n",
       "  }\n",
       "  th {\n",
       "    text-align: left;\n",
       "  }\n",
       "</style><div class='table-result-container'><table class='table-result'><thead style='background-color: white'><tr></tr></thead><tbody></tbody></table></div>"
      ]
     },
     "metadata": {
      "application/vnd.databricks.v1+output": {
       "addedWidgets": {},
       "aggData": [],
       "aggError": "",
       "aggOverflow": false,
       "aggSchema": [],
       "aggSeriesLimitReached": false,
       "aggType": "",
       "arguments": {},
       "columnCustomDisplayInfos": {},
       "data": [],
       "datasetInfos": [],
       "dbfsResultPath": null,
       "isJsonSchema": true,
       "metadata": {
        "dataframeName": null
       },
       "overflow": false,
       "plotOptions": {
        "customPlotOptions": {},
        "displayType": "table",
        "pivotAggregation": null,
        "pivotColumns": null,
        "xColumns": null,
        "yColumns": null
       },
       "removedWidgets": [],
       "schema": [],
       "type": "table"
      }
     },
     "output_type": "display_data"
    }
   ],
   "source": [
    "%sql\n",
    "\n",
    "CREATE OR REPLACE TEMP VIEW incremental_customer_updates AS\n",
    "-- Existing customer with updated information\n",
    "SELECT 101    AS customer_id,\n",
    "       'CHANGED Name'   AS name,\n",
    "       'Updated Address 500' AS address,\n",
    "       77     AS nation_key,\n",
    "       '555-NEW-8888'   AS phone,\n",
    "       CAST(999.99 AS DECIMAL(12,2)) AS acct_bal,\n",
    "       'NEW_SEGMENT'    AS market_segment,\n",
    "       'Existing row changed' AS comment\n",
    "\n",
    "UNION ALL\n",
    "\n",
    "-- New customer with initial information\n",
    "SELECT 99999,\n",
    "       'Completely New',\n",
    "       '123 New Street',\n",
    "       99,\n",
    "       '999-999-1234',\n",
    "       CAST(500.00 AS DECIMAL(12,2)),\n",
    "       'MARKET_NEW',\n",
    "       'Newly added customer';"
   ]
  },
  {
   "cell_type": "code",
   "execution_count": 0,
   "metadata": {
    "application/vnd.databricks.v1+cell": {
     "cellMetadata": {},
     "inputWidgets": {},
     "nuid": "b0ef293d-f14b-4f89-bc38-0d1a64361785",
     "showTitle": false,
     "tableResultSettingsMap": {},
     "title": ""
    }
   },
   "outputs": [],
   "source": [
    "%sql\n",
    "-- Display the contents of the temporary view to verify the data\n",
    "SELECT * FROM incremental_customer_updates"
   ]
  },
  {
   "cell_type": "markdown",
   "metadata": {
    "application/vnd.databricks.v1+cell": {
     "cellMetadata": {},
     "inputWidgets": {},
     "nuid": "d9046a92-c763-4d7e-ad54-e3f2e9b22ca8",
     "showTitle": false,
     "tableResultSettingsMap": {},
     "title": ""
    }
   },
   "source": [
    "### 4.2 Single MERGE for SCD Type 2\n",
    "1. We produce two rows for *any changed* customer: one labeled `\"OLD\"` to close out the current record, and one labeled `\"NEW\"` to insert an updated version.  \n",
    "2. For a truly new customer, we only produce a `\"NEW\"` row."
   ]
  },
  {
   "cell_type": "code",
   "execution_count": 0,
   "metadata": {
    "application/vnd.databricks.v1+cell": {
     "cellMetadata": {
      "byteLimit": 2048000,
      "implicitDf": true,
      "rowLimit": 10000
     },
     "inputWidgets": {},
     "nuid": "f9bcb375-9357-428c-86c5-f5d8b235752f",
     "showTitle": true,
     "tableResultSettingsMap": {},
     "title": "spark.sql(merge_sql)"
    }
   },
   "outputs": [
    {
     "output_type": "display_data",
     "data": {
      "text/html": [
       "<style scoped>\n",
       "  .table-result-container {\n",
       "    max-height: 300px;\n",
       "    overflow: auto;\n",
       "  }\n",
       "  table, th, td {\n",
       "    border: 1px solid black;\n",
       "    border-collapse: collapse;\n",
       "  }\n",
       "  th, td {\n",
       "    padding: 5px;\n",
       "  }\n",
       "  th {\n",
       "    text-align: left;\n",
       "  }\n",
       "</style><div class='table-result-container'><table class='table-result'><thead style='background-color: white'><tr><th>num_affected_rows</th><th>num_updated_rows</th><th>num_deleted_rows</th><th>num_inserted_rows</th></tr></thead><tbody><tr><td>4</td><td>2</td><td>0</td><td>2</td></tr></tbody></table></div>"
      ]
     },
     "metadata": {
      "application/vnd.databricks.v1+output": {
       "addedWidgets": {},
       "aggData": [],
       "aggError": "",
       "aggOverflow": false,
       "aggSchema": [],
       "aggSeriesLimitReached": false,
       "aggType": "",
       "arguments": {},
       "columnCustomDisplayInfos": {},
       "data": [
        [
         4,
         2,
         0,
         2
        ]
       ],
       "datasetInfos": [],
       "dbfsResultPath": null,
       "isJsonSchema": true,
       "metadata": {
        "createTempViewForImplicitDf": true,
        "dataframeName": "_sqldf",
        "executionCount": 17
       },
       "overflow": false,
       "plotOptions": {
        "customPlotOptions": {},
        "displayType": "table",
        "pivotAggregation": null,
        "pivotColumns": null,
        "xColumns": null,
        "yColumns": null
       },
       "removedWidgets": [],
       "schema": [
        {
         "metadata": "{}",
         "name": "num_affected_rows",
         "type": "\"long\""
        },
        {
         "metadata": "{}",
         "name": "num_updated_rows",
         "type": "\"long\""
        },
        {
         "metadata": "{}",
         "name": "num_deleted_rows",
         "type": "\"long\""
        },
        {
         "metadata": "{}",
         "name": "num_inserted_rows",
         "type": "\"long\""
        }
       ],
       "type": "table"
      }
     },
     "output_type": "display_data"
    }
   ],
   "source": [
    "%sql\n",
    "WITH staged_changes AS (\n",
    "  -- \"OLD\" row: used to find and update the existing active dimension record\n",
    "  SELECT\n",
    "    i.customer_id,\n",
    "    i.name,\n",
    "    i.address,\n",
    "    i.nation_key,\n",
    "    i.phone,\n",
    "    i.acct_bal,\n",
    "    i.market_segment,\n",
    "    i.comment,\n",
    "    'OLD' AS row_type\n",
    "  FROM incremental_customer_updates i\n",
    "\n",
    "  UNION ALL\n",
    "\n",
    "  -- \"NEW\" row: used to insert a brand-new dimension record\n",
    "  SELECT\n",
    "    i.customer_id,\n",
    "    i.name,\n",
    "    i.address,\n",
    "    i.nation_key,\n",
    "    i.phone,\n",
    "    i.acct_bal,\n",
    "    i.market_segment,\n",
    "    i.comment,\n",
    "    'NEW' AS row_type\n",
    "  FROM incremental_customer_updates i\n",
    ")\n",
    "\n",
    "-- Perform the merge operation on the DimCustomer table\n",
    "MERGE INTO DimCustomer t\n",
    "USING staged_changes s\n",
    "  ON t.customer_id = s.customer_id\n",
    "     AND t.is_current = TRUE\n",
    "     AND s.row_type = 'OLD'\n",
    "\n",
    "-- When a match is found, update the existing record to close it out\n",
    "WHEN MATCHED THEN\n",
    "  UPDATE SET\n",
    "    t.is_current = FALSE,\n",
    "    t.end_date   = CURRENT_DATE()\n",
    "\n",
    "-- When no match is found, insert the new record as the current version\n",
    "WHEN NOT MATCHED THEN\n",
    "  INSERT (\n",
    "    customer_id,\n",
    "    name,\n",
    "    address,\n",
    "    nation_key,\n",
    "    phone,\n",
    "    acct_bal,\n",
    "    market_segment,\n",
    "    comment,\n",
    "    start_date,\n",
    "    end_date,\n",
    "    is_current\n",
    "  )\n",
    "  VALUES (\n",
    "    s.customer_id,\n",
    "    s.name,\n",
    "    s.address,\n",
    "    s.nation_key,\n",
    "    s.phone,\n",
    "    s.acct_bal,\n",
    "    s.market_segment,\n",
    "    s.comment,\n",
    "    CURRENT_DATE(),\n",
    "    NULL,\n",
    "    TRUE\n",
    "  );"
   ]
  },
  {
   "cell_type": "markdown",
   "metadata": {
    "application/vnd.databricks.v1+cell": {
     "cellMetadata": {},
     "inputWidgets": {},
     "nuid": "e5b51bde-c887-4fef-923b-4a54bce40be8",
     "showTitle": false,
     "tableResultSettingsMap": {},
     "title": ""
    }
   },
   "source": [
    "#### Explanation:\n",
    "- If a row is found matching the `\"OLD\"` record (meaning that customer currently is active in `DimCustomer`), we **update** that record to close it out (`is_current=FALSE` and `end_date=TODAY`).  \n",
    "- Every `\"NEW\"` row won’t match, so it triggers the “INSERT” path. We insert a new row with `is_current=TRUE`, a fresh `start_date`, and no `end_date`."
   ]
  },
  {
   "cell_type": "markdown",
   "metadata": {
    "application/vnd.databricks.v1+cell": {
     "cellMetadata": {},
     "inputWidgets": {},
     "nuid": "f0443f8c-46d4-441c-97d6-adf22d203665",
     "showTitle": false,
     "tableResultSettingsMap": {},
     "title": ""
    }
   },
   "source": [
    "### 4.3 Validate the Updated Rows"
   ]
  },
  {
   "cell_type": "code",
   "execution_count": 0,
   "metadata": {
    "application/vnd.databricks.v1+cell": {
     "cellMetadata": {
      "byteLimit": 2048000,
      "implicitDf": true,
      "rowLimit": 10000
     },
     "inputWidgets": {},
     "nuid": "0dfd515d-8f08-4324-8e02-91384daf5cba",
     "showTitle": true,
     "tableResultSettingsMap": {},
     "title": "SELECT FROM DimCustomer"
    }
   },
   "outputs": [
    {
     "output_type": "display_data",
     "data": {
      "text/html": [
       "<style scoped>\n",
       "  .table-result-container {\n",
       "    max-height: 300px;\n",
       "    overflow: auto;\n",
       "  }\n",
       "  table, th, td {\n",
       "    border: 1px solid black;\n",
       "    border-collapse: collapse;\n",
       "  }\n",
       "  th, td {\n",
       "    padding: 5px;\n",
       "  }\n",
       "  th {\n",
       "    text-align: left;\n",
       "  }\n",
       "</style><div class='table-result-container'><table class='table-result'><thead style='background-color: white'><tr><th>dim_customer_key</th><th>customer_id</th><th>name</th><th>address</th><th>is_current</th><th>start_date</th><th>end_date</th></tr></thead><tbody><tr><td>77275</td><td>101</td><td>Customer#000000101</td><td>sMmL2rNeHDltovSm Y</td><td>false</td><td>2025-04-11</td><td>2025-04-11</td></tr><tr><td>750003</td><td>101</td><td>CHANGED Name</td><td>Updated Address 500</td><td>true</td><td>2025-04-11</td><td>null</td></tr></tbody></table></div>"
      ]
     },
     "metadata": {
      "application/vnd.databricks.v1+output": {
       "addedWidgets": {},
       "aggData": [],
       "aggError": "",
       "aggOverflow": false,
       "aggSchema": [],
       "aggSeriesLimitReached": false,
       "aggType": "",
       "arguments": {},
       "columnCustomDisplayInfos": {},
       "data": [
        [
         77275,
         101,
         "Customer#000000101",
         "sMmL2rNeHDltovSm Y",
         false,
         "2025-04-11",
         "2025-04-11"
        ],
        [
         750003,
         101,
         "CHANGED Name",
         "Updated Address 500",
         true,
         "2025-04-11",
         null
        ]
       ],
       "datasetInfos": [],
       "dbfsResultPath": null,
       "isJsonSchema": true,
       "metadata": {
        "createTempViewForImplicitDf": true,
        "dataframeName": "_sqldf",
        "executionCount": 18
       },
       "overflow": false,
       "plotOptions": {
        "customPlotOptions": {},
        "displayType": "table",
        "pivotAggregation": null,
        "pivotColumns": null,
        "xColumns": null,
        "yColumns": null
       },
       "removedWidgets": [],
       "schema": [
        {
         "metadata": "{}",
         "name": "dim_customer_key",
         "type": "\"long\""
        },
        {
         "metadata": "{}",
         "name": "customer_id",
         "type": "\"integer\""
        },
        {
         "metadata": "{}",
         "name": "name",
         "type": "\"string\""
        },
        {
         "metadata": "{}",
         "name": "address",
         "type": "\"string\""
        },
        {
         "metadata": "{}",
         "name": "is_current",
         "type": "\"boolean\""
        },
        {
         "metadata": "{}",
         "name": "start_date",
         "type": "\"date\""
        },
        {
         "metadata": "{}",
         "name": "end_date",
         "type": "\"date\""
        }
       ],
       "type": "table"
      }
     },
     "output_type": "display_data"
    }
   ],
   "source": [
    "%sql\n",
    "-- Query to display details of an existing customer with customer_id 101\n",
    "SELECT \n",
    "  dim_customer_key,  -- Unique key for the customer in the dimension table\n",
    "  customer_id,       -- Customer ID\n",
    "  name,              -- Customer name\n",
    "  address,           -- Customer address\n",
    "  is_current,        -- Flag indicating if the record is current\n",
    "  start_date,        -- Start date of the record\n",
    "  end_date           -- End date of the record\n",
    "FROM \n",
    "  DimCustomer        -- Dimension table containing customer data\n",
    "WHERE \n",
    "  customer_id = 101  -- Filter condition to select the customer with ID 101\n",
    "ORDER BY \n",
    "  dim_customer_key   -- Order the results by the unique customer key"
   ]
  },
  {
   "cell_type": "code",
   "execution_count": 0,
   "metadata": {
    "application/vnd.databricks.v1+cell": {
     "cellMetadata": {
      "byteLimit": 2048000,
      "implicitDf": true,
      "rowLimit": 10000
     },
     "inputWidgets": {},
     "nuid": "c0f0f06f-a1c1-4d59-9b22-a8337a9dfcb2",
     "showTitle": false,
     "tableResultSettingsMap": {},
     "title": ""
    }
   },
   "outputs": [
    {
     "output_type": "display_data",
     "data": {
      "text/html": [
       "<style scoped>\n",
       "  .table-result-container {\n",
       "    max-height: 300px;\n",
       "    overflow: auto;\n",
       "  }\n",
       "  table, th, td {\n",
       "    border: 1px solid black;\n",
       "    border-collapse: collapse;\n",
       "  }\n",
       "  th, td {\n",
       "    padding: 5px;\n",
       "  }\n",
       "  th {\n",
       "    text-align: left;\n",
       "  }\n",
       "</style><div class='table-result-container'><table class='table-result'><thead style='background-color: white'><tr><th>dim_customer_key</th><th>customer_id</th><th>name</th><th>address</th><th>is_current</th><th>start_date</th><th>end_date</th></tr></thead><tbody><tr><td>485897</td><td>99999</td><td>Customer#000099999</td><td>l6vVMVnRXQr</td><td>false</td><td>2025-04-11</td><td>2025-04-11</td></tr><tr><td>750004</td><td>99999</td><td>Completely New</td><td>123 New Street</td><td>true</td><td>2025-04-11</td><td>null</td></tr></tbody></table></div>"
      ]
     },
     "metadata": {
      "application/vnd.databricks.v1+output": {
       "addedWidgets": {},
       "aggData": [],
       "aggError": "",
       "aggOverflow": false,
       "aggSchema": [],
       "aggSeriesLimitReached": false,
       "aggType": "",
       "arguments": {},
       "columnCustomDisplayInfos": {},
       "data": [
        [
         485897,
         99999,
         "Customer#000099999",
         "l6vVMVnRXQr",
         false,
         "2025-04-11",
         "2025-04-11"
        ],
        [
         750004,
         99999,
         "Completely New",
         "123 New Street",
         true,
         "2025-04-11",
         null
        ]
       ],
       "datasetInfos": [],
       "dbfsResultPath": null,
       "isJsonSchema": true,
       "metadata": {
        "createTempViewForImplicitDf": true,
        "dataframeName": "_sqldf",
        "executionCount": 19
       },
       "overflow": false,
       "plotOptions": {
        "customPlotOptions": {},
        "displayType": "table",
        "pivotAggregation": null,
        "pivotColumns": null,
        "xColumns": null,
        "yColumns": null
       },
       "removedWidgets": [],
       "schema": [
        {
         "metadata": "{}",
         "name": "dim_customer_key",
         "type": "\"long\""
        },
        {
         "metadata": "{}",
         "name": "customer_id",
         "type": "\"integer\""
        },
        {
         "metadata": "{}",
         "name": "name",
         "type": "\"string\""
        },
        {
         "metadata": "{}",
         "name": "address",
         "type": "\"string\""
        },
        {
         "metadata": "{}",
         "name": "is_current",
         "type": "\"boolean\""
        },
        {
         "metadata": "{}",
         "name": "start_date",
         "type": "\"date\""
        },
        {
         "metadata": "{}",
         "name": "end_date",
         "type": "\"date\""
        }
       ],
       "type": "table"
      }
     },
     "output_type": "display_data"
    }
   ],
   "source": [
    "%sql\n",
    "-- Query to display details of a new customer with customer_id 99999\n",
    "SELECT \n",
    "  dim_customer_key,  -- Unique key for the customer in the dimension table\n",
    "  customer_id,       -- Customer ID\n",
    "  name,              -- Customer name\n",
    "  address,           -- Customer address\n",
    "  is_current,        -- Flag indicating if the record is current\n",
    "  start_date,        -- Start date of the record\n",
    "  end_date           -- End date of the record\n",
    "FROM \n",
    "  DimCustomer        -- Dimension table containing customer data\n",
    "WHERE \n",
    "  customer_id = 99999 -- Filter condition to select the customer with ID 99999\n",
    "ORDER BY \n",
    "  dim_customer_key   -- Order the results by the unique customer key"
   ]
  },
  {
   "cell_type": "markdown",
   "metadata": {
    "application/vnd.databricks.v1+cell": {
     "cellMetadata": {},
     "inputWidgets": {},
     "nuid": "531522e1-08e3-44f3-b78f-622abcd426ea",
     "showTitle": false,
     "tableResultSettingsMap": {},
     "title": ""
    }
   },
   "source": [
    "You should see that the old version of `customer_id = 101` now has `is_current=FALSE`, and a new version was inserted. A brand-new `customer_id=99999` has only one record (`is_current=TRUE`)."
   ]
  },
  {
   "cell_type": "markdown",
   "metadata": {
    "application/vnd.databricks.v1+cell": {
     "cellMetadata": {},
     "inputWidgets": {},
     "nuid": "a468a0d5-10ca-46d5-8b99-0fafe7dbaba6",
     "showTitle": false,
     "tableResultSettingsMap": {},
     "title": ""
    }
   },
   "source": [
    "---"
   ]
  },
  {
   "cell_type": "markdown",
   "metadata": {
    "application/vnd.databricks.v1+cell": {
     "cellMetadata": {},
     "inputWidgets": {},
     "nuid": "2bc56f6f-350a-46b1-b38e-ee41fdc0b299",
     "showTitle": false,
     "tableResultSettingsMap": {},
     "title": ""
    }
   },
   "source": [
    "## Part 5: Sample Queries on the Star Schema\n",
    "\n",
    "Now that we have `FactOrders` linking to `DimCustomer` and `DimDate`, let’s run a few checks to see how we can analyze the data."
   ]
  },
  {
   "cell_type": "markdown",
   "metadata": {
    "application/vnd.databricks.v1+cell": {
     "cellMetadata": {},
     "inputWidgets": {},
     "nuid": "48c36982-7b17-4e45-add2-346022cb7db7",
     "showTitle": false,
     "tableResultSettingsMap": {},
     "title": ""
    }
   },
   "source": [
    "### 5.1 Row Counts"
   ]
  },
  {
   "cell_type": "code",
   "execution_count": 0,
   "metadata": {
    "application/vnd.databricks.v1+cell": {
     "cellMetadata": {
      "byteLimit": 2048000,
      "implicitDf": true,
      "rowLimit": 10000
     },
     "inputWidgets": {},
     "nuid": "78822930-aad3-418c-9f9a-36ef640db3db",
     "showTitle": true,
     "tableResultSettingsMap": {},
     "title": "display(DimCustomer), display(DimState), display(FactOrders)"
    }
   },
   "outputs": [
    {
     "output_type": "display_data",
     "data": {
      "text/html": [
       "<style scoped>\n",
       "  .table-result-container {\n",
       "    max-height: 300px;\n",
       "    overflow: auto;\n",
       "  }\n",
       "  table, th, td {\n",
       "    border: 1px solid black;\n",
       "    border-collapse: collapse;\n",
       "  }\n",
       "  th, td {\n",
       "    padding: 5px;\n",
       "  }\n",
       "  th {\n",
       "    text-align: left;\n",
       "  }\n",
       "</style><div class='table-result-container'><table class='table-result'><thead style='background-color: white'><tr><th>table_name</th><th>record_count</th></tr></thead><tbody><tr><td>DimCustomer</td><td>750002</td></tr></tbody></table></div>"
      ]
     },
     "metadata": {
      "application/vnd.databricks.v1+output": {
       "addedWidgets": {},
       "aggData": [],
       "aggError": "",
       "aggOverflow": false,
       "aggSchema": [],
       "aggSeriesLimitReached": false,
       "aggType": "",
       "arguments": {},
       "columnCustomDisplayInfos": {},
       "data": [
        [
         "DimCustomer",
         750002
        ]
       ],
       "datasetInfos": [],
       "dbfsResultPath": null,
       "isJsonSchema": true,
       "metadata": {
        "createTempViewForImplicitDf": true,
        "dataframeName": "_sqldf",
        "executionCount": 20
       },
       "overflow": false,
       "plotOptions": {
        "customPlotOptions": {},
        "displayType": "table",
        "pivotAggregation": null,
        "pivotColumns": null,
        "xColumns": null,
        "yColumns": null
       },
       "removedWidgets": [],
       "schema": [
        {
         "metadata": "{}",
         "name": "table_name",
         "type": "\"string\""
        },
        {
         "metadata": "{}",
         "name": "record_count",
         "type": "\"long\""
        }
       ],
       "type": "table"
      }
     },
     "output_type": "display_data"
    }
   ],
   "source": [
    "%sql\n",
    "-- Display the count of records in the DimCustomer table with the table name\n",
    "SELECT 'DimCustomer' AS table_name, COUNT(*) AS record_count FROM DimCustomer"
   ]
  },
  {
   "cell_type": "code",
   "execution_count": 0,
   "metadata": {
    "application/vnd.databricks.v1+cell": {
     "cellMetadata": {
      "byteLimit": 2048000,
      "implicitDf": true,
      "rowLimit": 10000
     },
     "inputWidgets": {},
     "nuid": "28ee9f30-df3a-436b-9768-cd8ee73212f8",
     "showTitle": false,
     "tableResultSettingsMap": {},
     "title": ""
    }
   },
   "outputs": [
    {
     "output_type": "display_data",
     "data": {
      "text/html": [
       "<style scoped>\n",
       "  .table-result-container {\n",
       "    max-height: 300px;\n",
       "    overflow: auto;\n",
       "  }\n",
       "  table, th, td {\n",
       "    border: 1px solid black;\n",
       "    border-collapse: collapse;\n",
       "  }\n",
       "  th, td {\n",
       "    padding: 5px;\n",
       "  }\n",
       "  th {\n",
       "    text-align: left;\n",
       "  }\n",
       "</style><div class='table-result-container'><table class='table-result'><thead style='background-color: white'><tr><th>table_name</th><th>record_count</th></tr></thead><tbody><tr><td>DimDate</td><td>2406</td></tr></tbody></table></div>"
      ]
     },
     "metadata": {
      "application/vnd.databricks.v1+output": {
       "addedWidgets": {},
       "aggData": [],
       "aggError": "",
       "aggOverflow": false,
       "aggSchema": [],
       "aggSeriesLimitReached": false,
       "aggType": "",
       "arguments": {},
       "columnCustomDisplayInfos": {},
       "data": [
        [
         "DimDate",
         2406
        ]
       ],
       "datasetInfos": [],
       "dbfsResultPath": null,
       "isJsonSchema": true,
       "metadata": {
        "createTempViewForImplicitDf": true,
        "dataframeName": "_sqldf",
        "executionCount": 21
       },
       "overflow": false,
       "plotOptions": {
        "customPlotOptions": {},
        "displayType": "table",
        "pivotAggregation": null,
        "pivotColumns": null,
        "xColumns": null,
        "yColumns": null
       },
       "removedWidgets": [],
       "schema": [
        {
         "metadata": "{}",
         "name": "table_name",
         "type": "\"string\""
        },
        {
         "metadata": "{}",
         "name": "record_count",
         "type": "\"long\""
        }
       ],
       "type": "table"
      }
     },
     "output_type": "display_data"
    }
   ],
   "source": [
    "%sql\n",
    "-- Display the count of records in the DimDate table with the table name\n",
    "SELECT 'DimDate' AS table_name, COUNT(*) AS record_count FROM DimDate"
   ]
  },
  {
   "cell_type": "code",
   "execution_count": 0,
   "metadata": {
    "application/vnd.databricks.v1+cell": {
     "cellMetadata": {
      "byteLimit": 2048000,
      "implicitDf": true,
      "rowLimit": 10000
     },
     "inputWidgets": {},
     "nuid": "04363015-c30c-40eb-ae13-aaea992bd60c",
     "showTitle": false,
     "tableResultSettingsMap": {},
     "title": ""
    }
   },
   "outputs": [
    {
     "output_type": "display_data",
     "data": {
      "text/html": [
       "<style scoped>\n",
       "  .table-result-container {\n",
       "    max-height: 300px;\n",
       "    overflow: auto;\n",
       "  }\n",
       "  table, th, td {\n",
       "    border: 1px solid black;\n",
       "    border-collapse: collapse;\n",
       "  }\n",
       "  th, td {\n",
       "    padding: 5px;\n",
       "  }\n",
       "  th {\n",
       "    text-align: left;\n",
       "  }\n",
       "</style><div class='table-result-container'><table class='table-result'><thead style='background-color: white'><tr><th>table_name</th><th>record_count</th></tr></thead><tbody><tr><td>FactOrders</td><td>7500000</td></tr></tbody></table></div>"
      ]
     },
     "metadata": {
      "application/vnd.databricks.v1+output": {
       "addedWidgets": {},
       "aggData": [],
       "aggError": "",
       "aggOverflow": false,
       "aggSchema": [],
       "aggSeriesLimitReached": false,
       "aggType": "",
       "arguments": {},
       "columnCustomDisplayInfos": {},
       "data": [
        [
         "FactOrders",
         7500000
        ]
       ],
       "datasetInfos": [],
       "dbfsResultPath": null,
       "isJsonSchema": true,
       "metadata": {
        "createTempViewForImplicitDf": true,
        "dataframeName": "_sqldf",
        "executionCount": 22
       },
       "overflow": false,
       "plotOptions": {
        "customPlotOptions": {},
        "displayType": "table",
        "pivotAggregation": null,
        "pivotColumns": null,
        "xColumns": null,
        "yColumns": null
       },
       "removedWidgets": [],
       "schema": [
        {
         "metadata": "{}",
         "name": "table_name",
         "type": "\"string\""
        },
        {
         "metadata": "{}",
         "name": "record_count",
         "type": "\"long\""
        }
       ],
       "type": "table"
      }
     },
     "output_type": "display_data"
    }
   ],
   "source": [
    "%sql\n",
    "-- Display the count of records in the FactOrders table with the table name\n",
    "SELECT 'FactOrders' AS table_name, COUNT(*) AS record_count FROM FactOrders"
   ]
  },
  {
   "cell_type": "markdown",
   "metadata": {
    "application/vnd.databricks.v1+cell": {
     "cellMetadata": {},
     "inputWidgets": {},
     "nuid": "52765f23-2c05-4f2d-ae78-d18f5bdf691a",
     "showTitle": false,
     "tableResultSettingsMap": {},
     "title": ""
    }
   },
   "source": [
    "### 5.2 Example Query: Top Market Segments"
   ]
  },
  {
   "cell_type": "code",
   "execution_count": 0,
   "metadata": {
    "application/vnd.databricks.v1+cell": {
     "cellMetadata": {
      "byteLimit": 2048000,
      "implicitDf": true,
      "rowLimit": 10000
     },
     "inputWidgets": {},
     "nuid": "de4848d5-e777-4fb5-a1e5-1d2d769e551b",
     "showTitle": true,
     "tableResultSettingsMap": {},
     "title": "SELECT FROM FactOrders JOIN  DimCustomer"
    }
   },
   "outputs": [
    {
     "output_type": "display_data",
     "data": {
      "text/html": [
       "<style scoped>\n",
       "  .table-result-container {\n",
       "    max-height: 300px;\n",
       "    overflow: auto;\n",
       "  }\n",
       "  table, th, td {\n",
       "    border: 1px solid black;\n",
       "    border-collapse: collapse;\n",
       "  }\n",
       "  th, td {\n",
       "    padding: 5px;\n",
       "  }\n",
       "  th {\n",
       "    text-align: left;\n",
       "  }\n",
       "</style><div class='table-result-container'><table class='table-result'><thead style='background-color: white'><tr><th>market_segment</th><th>total_spent</th></tr></thead><tbody><tr><td>FURNITURE</td><td>227766808074.12</td></tr><tr><td>BUILDING</td><td>227497428730.20</td></tr><tr><td>MACHINERY</td><td>226563021856.45</td></tr><tr><td>AUTOMOBILE</td><td>226311189156.13</td></tr><tr><td>HOUSEHOLD</td><td>225300767429.35</td></tr></tbody></table></div>"
      ]
     },
     "metadata": {
      "application/vnd.databricks.v1+output": {
       "addedWidgets": {},
       "aggData": [],
       "aggError": "",
       "aggOverflow": false,
       "aggSchema": [],
       "aggSeriesLimitReached": false,
       "aggType": "",
       "arguments": {},
       "columnCustomDisplayInfos": {},
       "data": [
        [
         "FURNITURE",
         "227766808074.12"
        ],
        [
         "BUILDING",
         "227497428730.20"
        ],
        [
         "MACHINERY",
         "226563021856.45"
        ],
        [
         "AUTOMOBILE",
         "226311189156.13"
        ],
        [
         "HOUSEHOLD",
         "225300767429.35"
        ]
       ],
       "datasetInfos": [],
       "dbfsResultPath": null,
       "isJsonSchema": true,
       "metadata": {
        "createTempViewForImplicitDf": true,
        "dataframeName": "_sqldf",
        "executionCount": 23
       },
       "overflow": false,
       "plotOptions": {
        "customPlotOptions": {},
        "displayType": "table",
        "pivotAggregation": null,
        "pivotColumns": null,
        "xColumns": null,
        "yColumns": null
       },
       "removedWidgets": [],
       "schema": [
        {
         "metadata": "{}",
         "name": "market_segment",
         "type": "\"string\""
        },
        {
         "metadata": "{}",
         "name": "total_spent",
         "type": "\"decimal(22,2)\""
        }
       ],
       "type": "table"
      }
     },
     "output_type": "display_data"
    }
   ],
   "source": [
    "%sql\n",
    "-- Display the total amount spent by customers in each market segment, limited to the top 10 segments\n",
    "SELECT \n",
    "  dc.market_segment,                -- Select the market segment from the DimCustomer dimension table\n",
    "  SUM(f.total_price) AS total_spent -- Calculate the total amount spent by summing the total_price from the FactOrders fact table\n",
    "FROM \n",
    "  FactOrders f                      -- Fact table containing order data\n",
    "JOIN \n",
    "  DimCustomer dc                    -- Dimension table containing customer data\n",
    "  ON f.dim_customer_key = dc.dim_customer_key -- Join condition on customer key\n",
    "GROUP BY \n",
    "  dc.market_segment                 -- Group the results by market segment\n",
    "ORDER BY \n",
    "  total_spent DESC                  -- Order the results by total amount spent in descending order\n",
    "LIMIT 10                            -- Limit the results to the top 10 market segments"
   ]
  },
  {
   "cell_type": "markdown",
   "metadata": {
    "application/vnd.databricks.v1+cell": {
     "cellMetadata": {},
     "inputWidgets": {},
     "nuid": "3362a363-a3aa-4e20-8a1d-3f5251a92940",
     "showTitle": false,
     "tableResultSettingsMap": {},
     "title": ""
    }
   },
   "source": [
    "### 5.3 Example Query: Order Counts by Year"
   ]
  },
  {
   "cell_type": "code",
   "execution_count": 0,
   "metadata": {
    "application/vnd.databricks.v1+cell": {
     "cellMetadata": {
      "byteLimit": 2048000,
      "implicitDf": true,
      "rowLimit": 10000
     },
     "inputWidgets": {},
     "nuid": "bc6ea491-d93a-44b8-8b4f-b6f053784c39",
     "showTitle": true,
     "tableResultSettingsMap": {},
     "title": "SELECT FROM FactOrders JOIN DimDate"
    }
   },
   "outputs": [
    {
     "output_type": "display_data",
     "data": {
      "text/html": [
       "<style scoped>\n",
       "  .table-result-container {\n",
       "    max-height: 300px;\n",
       "    overflow: auto;\n",
       "  }\n",
       "  table, th, td {\n",
       "    border: 1px solid black;\n",
       "    border-collapse: collapse;\n",
       "  }\n",
       "  th, td {\n",
       "    padding: 5px;\n",
       "  }\n",
       "  th {\n",
       "    text-align: left;\n",
       "  }\n",
       "</style><div class='table-result-container'><table class='table-result'><thead style='background-color: white'><tr><th>year</th><th>orders_count</th></tr></thead><tbody><tr><td>1992</td><td>1139873</td></tr><tr><td>1993</td><td>1138893</td></tr><tr><td>1994</td><td>1137944</td></tr><tr><td>1995</td><td>1136308</td></tr><tr><td>1996</td><td>1141556</td></tr><tr><td>1997</td><td>1137325</td></tr><tr><td>1998</td><td>668101</td></tr></tbody></table></div>"
      ]
     },
     "metadata": {
      "application/vnd.databricks.v1+output": {
       "addedWidgets": {},
       "aggData": [],
       "aggError": "",
       "aggOverflow": false,
       "aggSchema": [],
       "aggSeriesLimitReached": false,
       "aggType": "",
       "arguments": {},
       "columnCustomDisplayInfos": {},
       "data": [
        [
         1992,
         1139873
        ],
        [
         1993,
         1138893
        ],
        [
         1994,
         1137944
        ],
        [
         1995,
         1136308
        ],
        [
         1996,
         1141556
        ],
        [
         1997,
         1137325
        ],
        [
         1998,
         668101
        ]
       ],
       "datasetInfos": [],
       "dbfsResultPath": null,
       "isJsonSchema": true,
       "metadata": {
        "createTempViewForImplicitDf": true,
        "dataframeName": "_sqldf",
        "executionCount": 24
       },
       "overflow": false,
       "plotOptions": {
        "customPlotOptions": {},
        "displayType": "table",
        "pivotAggregation": null,
        "pivotColumns": null,
        "xColumns": null,
        "yColumns": null
       },
       "removedWidgets": [],
       "schema": [
        {
         "metadata": "{}",
         "name": "year",
         "type": "\"integer\""
        },
        {
         "metadata": "{}",
         "name": "orders_count",
         "type": "\"long\""
        }
       ],
       "type": "table"
      }
     },
     "output_type": "display_data"
    }
   ],
   "source": [
    "%sql\n",
    "-- Count the number of orders for each year by joining the FactOrders table with the DimDate table\n",
    "SELECT \n",
    "  dd.year,            -- Select the year from the DimDate dimension table\n",
    "  COUNT(*) AS orders_count -- Count the number of orders for each year\n",
    "FROM \n",
    "  FactOrders f        -- Fact table containing order data\n",
    "JOIN \n",
    "  DimDate dd          -- Dimension table containing date data\n",
    "  ON f.dim_date_key = dd.dim_date_key -- Join condition on date key\n",
    "GROUP BY \n",
    "  dd.year             -- Group the results by year\n",
    "ORDER BY \n",
    "  dd.year             -- Order the results by year"
   ]
  },
  {
   "cell_type": "markdown",
   "metadata": {
    "application/vnd.databricks.v1+cell": {
     "cellMetadata": {},
     "inputWidgets": {},
     "nuid": "faedac9a-9fb8-458c-9515-e9d474bf22fc",
     "showTitle": false,
     "tableResultSettingsMap": {},
     "title": ""
    }
   },
   "source": [
    "---"
   ]
  },
  {
   "cell_type": "markdown",
   "metadata": {
    "application/vnd.databricks.v1+cell": {
     "cellMetadata": {},
     "inputWidgets": {},
     "nuid": "8cc051b1-ec6e-4a80-919b-6dfbd758e306",
     "showTitle": false,
     "tableResultSettingsMap": {},
     "title": ""
    }
   },
   "source": [
    "## Part 6: Summary & Next Steps\n",
    "\n",
    "1. **Defined Table Structures**:  \n",
    "   - **Silver** (refined/integration) tables (`refined_customer`, `refined_orders`).  \n",
    "   - **Gold** dimension/fact tables (`DimCustomer`, `DimDate`, `FactOrders`).  \n",
    "   - Used `GENERATED ALWAYS AS IDENTITY` for surrogate keys.  \n",
    "   - Managed SCD Type 2 in `DimCustomer` using `start_date`, `end_date`, and `is_current`.  \n",
    "\n",
    "2. **Loaded Initial Data**:  \n",
    "   - Moved from `bronze` TPC-H to **silver**.  \n",
    "   - Populated **gold** dimension and fact tables.  \n",
    "\n",
    "3. **Incremental Updates**:  \n",
    "   - Demonstrated a single MERGE for SCD Type 2.  \n",
    "   - Closed out old dimension records and inserted new ones simultaneously.  \n",
    "\n",
    "4. **Validation**:  \n",
    "   - Showed row counts, queries to confirm star schema functionality.  \n",
    "\n",
    "**Where to Go Next**:  \n",
    "- Incorporate automated checks for changes in `refined_customer` to keep `DimCustomer` synchronized over time.  \n",
    "- Extend Type 2 logic to other dimensions, like part, supplier, or date-based attributes.  \n",
    "- Create additional fact tables (e.g., FactLineItems) to make your star schema bigger.  \n",
    "- Explore advanced BI or analytics queries on your star schema, taking full advantage of Databricks performance optimizations."
   ]
  },
  {
   "cell_type": "markdown",
   "metadata": {
    "application/vnd.databricks.v1+cell": {
     "cellMetadata": {},
     "inputWidgets": {},
     "nuid": "72cbc367-3976-44d6-8cef-6bd638a3bc2b",
     "showTitle": false,
     "tableResultSettingsMap": {},
     "title": ""
    }
   },
   "source": [
    "#### You have completed:\n",
    "1. Building and structuring your **silver** tables.  \n",
    "2. Designing a **gold** star schema with a Type 2 dimension.  \n",
    "3. Loading your dimension and fact tables with both **initial** and **incremental** data updates.  \n",
    "4. Running queries to validate and explore the star schema."
   ]
  },
  {
   "cell_type": "markdown",
   "metadata": {
    "application/vnd.databricks.v1+cell": {
     "cellMetadata": {},
     "inputWidgets": {},
     "nuid": "5754f562-2d62-4f9b-86cc-963b6ba831a5",
     "showTitle": false,
     "tableResultSettingsMap": {},
     "title": ""
    }
   },
   "source": [
    "## Cleanup\n",
    "\n",
    "Before proceeding, execute the SQL block in the cell below to clean up your work."
   ]
  },
  {
   "cell_type": "code",
   "execution_count": 0,
   "metadata": {
    "application/vnd.databricks.v1+cell": {
     "cellMetadata": {},
     "inputWidgets": {},
     "nuid": "f1e27daf-0294-4640-98b6-cd1a93b3b989",
     "showTitle": true,
     "tableResultSettingsMap": {},
     "title": "DROP silver and gold tables"
    }
   },
   "outputs": [],
   "source": [
    "%sql\n",
    "-- Drop Silver tables\n",
    "DROP TABLE IF EXISTS silver.refined_customer;\n",
    "DROP TABLE IF EXISTS silver.refined_orders;\n",
    "\n",
    "-- Drop Gold tables\n",
    "DROP TABLE IF EXISTS gold.DimCustomer;\n",
    "DROP TABLE IF EXISTS gold.DimDate;\n",
    "DROP TABLE IF EXISTS gold.FactOrders;"
   ]
  },
  {
   "cell_type": "markdown",
   "metadata": {
    "application/vnd.databricks.v1+cell": {
     "cellMetadata": {},
     "inputWidgets": {},
     "nuid": "3426c680-ef65-4219-a66e-348514efc8a3",
     "showTitle": false,
     "tableResultSettingsMap": {},
     "title": ""
    }
   },
   "source": [
    "Remove all widgets created during the demo to clean up the notebook environment."
   ]
  },
  {
   "cell_type": "code",
   "execution_count": 0,
   "metadata": {
    "application/vnd.databricks.v1+cell": {
     "cellMetadata": {},
     "inputWidgets": {},
     "nuid": "88aefb6a-81e5-4314-8ed6-3e41b3c60273",
     "showTitle": false,
     "tableResultSettingsMap": {},
     "title": ""
    }
   },
   "outputs": [],
   "source": [
    "dbutils.widgets.removeAll()"
   ]
  },
  {
   "cell_type": "markdown",
   "metadata": {
    "application/vnd.databricks.v1+cell": {
     "cellMetadata": {},
     "inputWidgets": {},
     "nuid": "09c82a0f-edc5-4869-887a-272749be67f2",
     "showTitle": false,
     "tableResultSettingsMap": {},
     "title": ""
    }
   },
   "source": [
    "## Conclusion\n",
    "In this demo, we successfully implemented a star schema design for a data warehouse using Databricks. We applied the SCD Type 2 methodology to manage historical data in dimension tables while ensuring data consistency and traceability. Through step-by-step data transformation and ETL pipeline development, we gained practical experience in creating and managing data models for analytics. By the end of this demo, you will have developed proficiency in building scalable and efficient ETL pipelines, maintaining data lineage, and applying dimensional modeling concepts to real-world datasets."
   ]
  },
  {
   "cell_type": "markdown",
   "metadata": {
    "application/vnd.databricks.v1+cell": {
     "cellMetadata": {},
     "inputWidgets": {},
     "nuid": "b7412ba5-4c26-4efa-9a99-2a746e75845b",
     "showTitle": false,
     "tableResultSettingsMap": {},
     "title": ""
    }
   },
   "source": [
    "\n",
    "&copy; 2025 Databricks, Inc. All rights reserved.<br/>\n",
    "Apache, Apache Spark, Spark and the Spark logo are trademarks of the \n",
    "<a href=\"https://www.apache.org/\">Apache Software Foundation</a>.<br/>\n",
    "<br/><a href=\"https://databricks.com/privacy-policy\">Privacy Policy</a> | \n",
    "<a href=\"https://databricks.com/terms-of-use\">Terms of Use</a> | \n",
    "<a href=\"https://help.databricks.com/\">Support</a>"
   ]
  }
 ],
 "metadata": {
  "application/vnd.databricks.v1+notebook": {
   "computePreferences": null,
   "dashboards": [],
   "environmentMetadata": null,
   "inputWidgetPreferences": null,
   "language": "python",
   "notebookMetadata": {
    "mostRecentlyExecutedCommandWithImplicitDF": {
     "commandId": 1729631163678781,
     "dataframes": [
      "_sqldf"
     ]
    },
    "pythonIndentUnit": 4
   },
   "notebookName": "2 - Dimensional Modeling and ETL",
   "widgets": {
    "catalog_name": {
     "currentValue": "labuser9889927_1744356335",
     "nuid": "be1fe0e1-50b7-4a44-918d-79163b8e0a7f",
     "typedWidgetInfo": {
      "autoCreated": false,
      "defaultValue": "labuser9889927_1744356335",
      "label": null,
      "name": "catalog_name",
      "options": {
       "widgetDisplayType": "Text",
       "validationRegex": null
      },
      "parameterDataType": "String"
     },
     "widgetInfo": {
      "widgetType": "text",
      "defaultValue": "labuser9889927_1744356335",
      "label": null,
      "name": "catalog_name",
      "options": {
       "widgetType": "text",
       "autoCreated": false,
       "validationRegex": null
      }
     }
    },
    "gold_schema": {
     "currentValue": "gold",
     "nuid": "4f7277b5-ad8b-4533-8fab-c593e5567f4f",
     "typedWidgetInfo": {
      "autoCreated": false,
      "defaultValue": "gold",
      "label": null,
      "name": "gold_schema",
      "options": {
       "widgetDisplayType": "Text",
       "validationRegex": null
      },
      "parameterDataType": "String"
     },
     "widgetInfo": {
      "widgetType": "text",
      "defaultValue": "gold",
      "label": null,
      "name": "gold_schema",
      "options": {
       "widgetType": "text",
       "autoCreated": false,
       "validationRegex": null
      }
     }
    },
    "silver_schema": {
     "currentValue": "silver",
     "nuid": "24681d5c-d166-4fe6-bd3a-3e14d071f5be",
     "typedWidgetInfo": {
      "autoCreated": false,
      "defaultValue": "silver",
      "label": null,
      "name": "silver_schema",
      "options": {
       "widgetDisplayType": "Text",
       "validationRegex": null
      },
      "parameterDataType": "String"
     },
     "widgetInfo": {
      "widgetType": "text",
      "defaultValue": "silver",
      "label": null,
      "name": "silver_schema",
      "options": {
       "widgetType": "text",
       "autoCreated": false,
       "validationRegex": null
      }
     }
    }
   }
  },
  "language_info": {
   "name": "python"
  }
 },
 "nbformat": 4,
 "nbformat_minor": 0
}